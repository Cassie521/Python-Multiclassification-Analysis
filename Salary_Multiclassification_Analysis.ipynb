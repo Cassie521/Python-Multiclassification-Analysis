{
  "cells": [
    {
      "cell_type": "markdown",
      "source": [
        "**Salary** **Multiclassification** **Analysis** **Project**: \n",
        "\n",
        "The data source used for this project is '2021 Kaggle Machine Learning & Data Science Survey' dataset. \n",
        "\n",
        "This project aims to apply the ordinal logisitic regression and cross validation technique to classify the professionals working in data science into different salary levels based on relevant survey responses. "
      ],
      "metadata": {
        "id": "m2thHnlbuKGZ"
      },
      "id": "m2thHnlbuKGZ"
    },
    {
      "cell_type": "code",
      "execution_count": null,
      "id": "bcdef0a6",
      "metadata": {
        "id": "bcdef0a6"
      },
      "outputs": [],
      "source": [
        "#import libraries \n",
        "import pandas as pd \n",
        "import numpy as np \n",
        "import matplotlib.pyplot as plt \n",
        "import seaborn as sns \n",
        "\n",
        "from sklearn.model_selection import train_test_split \n",
        "from sklearn.model_selection import KFold\n",
        "from sklearn.preprocessing import StandardScaler  \n",
        "from sklearn.linear_model import LogisticRegression \n",
        "from sklearn.metrics import accuracy_score\n",
        "from sklearn.model_selection import GridSearchCV\n"
      ]
    },
    {
      "cell_type": "code",
      "execution_count": null,
      "id": "d4aebd99",
      "metadata": {
        "colab": {
          "base_uri": "https://localhost:8080/",
          "height": 634,
          "resources": {
            "http://localhost:8080/nbextensions/google.colab/files.js": {
              "data": "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",
              "headers": [
                [
                  "content-type",
                  "application/javascript"
                ]
              ],
              "ok": true,
              "status": 200,
              "status_text": ""
            }
          }
        },
        "id": "d4aebd99",
        "outputId": "1dd07e32-1a3f-4ff3-f786-99383f2700f3"
      },
      "outputs": [
        {
          "output_type": "display_data",
          "data": {
            "text/html": [
              "\n",
              "     <input type=\"file\" id=\"files-7a985483-a9e0-42b8-9a51-bb4a065fedde\" name=\"files[]\" multiple disabled\n",
              "        style=\"border:none\" />\n",
              "     <output id=\"result-7a985483-a9e0-42b8-9a51-bb4a065fedde\">\n",
              "      Upload widget is only available when the cell has been executed in the\n",
              "      current browser session. Please rerun this cell to enable.\n",
              "      </output>\n",
              "      <script src=\"/nbextensions/google.colab/files.js\"></script> "
            ],
            "text/plain": [
              "<IPython.core.display.HTML object>"
            ]
          },
          "metadata": {}
        },
        {
          "output_type": "stream",
          "name": "stdout",
          "text": [
            "Saving clean_kaggle_data_2021.csv to clean_kaggle_data_2021 (1).csv\n"
          ]
        },
        {
          "output_type": "execute_result",
          "data": {
            "text/html": [
              "\n",
              "  <div id=\"df-d3d08750-378e-4881-b37d-c0b8cb7f39e2\">\n",
              "    <div class=\"colab-df-container\">\n",
              "      <div>\n",
              "<style scoped>\n",
              "    .dataframe tbody tr th:only-of-type {\n",
              "        vertical-align: middle;\n",
              "    }\n",
              "\n",
              "    .dataframe tbody tr th {\n",
              "        vertical-align: top;\n",
              "    }\n",
              "\n",
              "    .dataframe thead th {\n",
              "        text-align: right;\n",
              "    }\n",
              "</style>\n",
              "<table border=\"1\" class=\"dataframe\">\n",
              "  <thead>\n",
              "    <tr style=\"text-align: right;\">\n",
              "      <th></th>\n",
              "      <th>Time from Start to Finish (seconds)</th>\n",
              "      <th>Q1</th>\n",
              "      <th>Q2</th>\n",
              "      <th>Q3</th>\n",
              "      <th>Q4</th>\n",
              "      <th>Q5</th>\n",
              "      <th>Q6</th>\n",
              "      <th>Q7_Part_1</th>\n",
              "      <th>Q7_Part_2</th>\n",
              "      <th>Q7_Part_3</th>\n",
              "      <th>...</th>\n",
              "      <th>Q38_B_Part_5</th>\n",
              "      <th>Q38_B_Part_6</th>\n",
              "      <th>Q38_B_Part_7</th>\n",
              "      <th>Q38_B_Part_8</th>\n",
              "      <th>Q38_B_Part_9</th>\n",
              "      <th>Q38_B_Part_10</th>\n",
              "      <th>Q38_B_Part_11</th>\n",
              "      <th>Q38_B_OTHER</th>\n",
              "      <th>Q25_Encoded</th>\n",
              "      <th>Q25_buckets</th>\n",
              "    </tr>\n",
              "  </thead>\n",
              "  <tbody>\n",
              "    <tr>\n",
              "      <th>0</th>\n",
              "      <td>Duration (in seconds)</td>\n",
              "      <td>What is your age (# years)?</td>\n",
              "      <td>What is your gender? - Selected Choice</td>\n",
              "      <td>In which country do you currently reside?</td>\n",
              "      <td>What is the highest level of formal education ...</td>\n",
              "      <td>Select the title most similar to your current ...</td>\n",
              "      <td>For how many years have you been writing code ...</td>\n",
              "      <td>What programming languages do you use on a reg...</td>\n",
              "      <td>What programming languages do you use on a reg...</td>\n",
              "      <td>What programming languages do you use on a reg...</td>\n",
              "      <td>...</td>\n",
              "      <td>In the next 2 years, do you hope to become mor...</td>\n",
              "      <td>In the next 2 years, do you hope to become mor...</td>\n",
              "      <td>In the next 2 years, do you hope to become mor...</td>\n",
              "      <td>In the next 2 years, do you hope to become mor...</td>\n",
              "      <td>In the next 2 years, do you hope to become mor...</td>\n",
              "      <td>In the next 2 years, do you hope to become mor...</td>\n",
              "      <td>In the next 2 years, do you hope to become mor...</td>\n",
              "      <td>In the next 2 years, do you hope to become mor...</td>\n",
              "      <td>NaN</td>\n",
              "      <td>NaN</td>\n",
              "    </tr>\n",
              "    <tr>\n",
              "      <th>1</th>\n",
              "      <td>910</td>\n",
              "      <td>50-54</td>\n",
              "      <td>Man</td>\n",
              "      <td>India</td>\n",
              "      <td>Bachelor’s degree</td>\n",
              "      <td>Other</td>\n",
              "      <td>5-10 years</td>\n",
              "      <td>Python</td>\n",
              "      <td>R</td>\n",
              "      <td>NaN</td>\n",
              "      <td>...</td>\n",
              "      <td>NaN</td>\n",
              "      <td>NaN</td>\n",
              "      <td>NaN</td>\n",
              "      <td>NaN</td>\n",
              "      <td>NaN</td>\n",
              "      <td>NaN</td>\n",
              "      <td>NaN</td>\n",
              "      <td>NaN</td>\n",
              "      <td>2.0</td>\n",
              "      <td>20,000-29,999</td>\n",
              "    </tr>\n",
              "    <tr>\n",
              "      <th>2</th>\n",
              "      <td>784</td>\n",
              "      <td>50-54</td>\n",
              "      <td>Man</td>\n",
              "      <td>Indonesia</td>\n",
              "      <td>Master’s degree</td>\n",
              "      <td>Program/Project Manager</td>\n",
              "      <td>20+ years</td>\n",
              "      <td>NaN</td>\n",
              "      <td>NaN</td>\n",
              "      <td>SQL</td>\n",
              "      <td>...</td>\n",
              "      <td>NaN</td>\n",
              "      <td>NaN</td>\n",
              "      <td>NaN</td>\n",
              "      <td>NaN</td>\n",
              "      <td>NaN</td>\n",
              "      <td>NaN</td>\n",
              "      <td>None</td>\n",
              "      <td>NaN</td>\n",
              "      <td>6.0</td>\n",
              "      <td>60,000-69,999</td>\n",
              "    </tr>\n",
              "    <tr>\n",
              "      <th>3</th>\n",
              "      <td>924</td>\n",
              "      <td>22-24</td>\n",
              "      <td>Man</td>\n",
              "      <td>Pakistan</td>\n",
              "      <td>Master’s degree</td>\n",
              "      <td>Software Engineer</td>\n",
              "      <td>1-3 years</td>\n",
              "      <td>Python</td>\n",
              "      <td>NaN</td>\n",
              "      <td>NaN</td>\n",
              "      <td>...</td>\n",
              "      <td>TensorBoard</td>\n",
              "      <td>NaN</td>\n",
              "      <td>NaN</td>\n",
              "      <td>NaN</td>\n",
              "      <td>NaN</td>\n",
              "      <td>NaN</td>\n",
              "      <td>NaN</td>\n",
              "      <td>NaN</td>\n",
              "      <td>0.0</td>\n",
              "      <td>0-9,999</td>\n",
              "    </tr>\n",
              "    <tr>\n",
              "      <th>4</th>\n",
              "      <td>575</td>\n",
              "      <td>45-49</td>\n",
              "      <td>Man</td>\n",
              "      <td>Mexico</td>\n",
              "      <td>Doctoral degree</td>\n",
              "      <td>Research Scientist</td>\n",
              "      <td>20+ years</td>\n",
              "      <td>Python</td>\n",
              "      <td>NaN</td>\n",
              "      <td>NaN</td>\n",
              "      <td>...</td>\n",
              "      <td>NaN</td>\n",
              "      <td>NaN</td>\n",
              "      <td>NaN</td>\n",
              "      <td>NaN</td>\n",
              "      <td>NaN</td>\n",
              "      <td>NaN</td>\n",
              "      <td>None</td>\n",
              "      <td>NaN</td>\n",
              "      <td>3.0</td>\n",
              "      <td>30,000-39,999</td>\n",
              "    </tr>\n",
              "  </tbody>\n",
              "</table>\n",
              "<p>5 rows × 371 columns</p>\n",
              "</div>\n",
              "      <button class=\"colab-df-convert\" onclick=\"convertToInteractive('df-d3d08750-378e-4881-b37d-c0b8cb7f39e2')\"\n",
              "              title=\"Convert this dataframe to an interactive table.\"\n",
              "              style=\"display:none;\">\n",
              "        \n",
              "  <svg xmlns=\"http://www.w3.org/2000/svg\" height=\"24px\"viewBox=\"0 0 24 24\"\n",
              "       width=\"24px\">\n",
              "    <path d=\"M0 0h24v24H0V0z\" fill=\"none\"/>\n",
              "    <path d=\"M18.56 5.44l.94 2.06.94-2.06 2.06-.94-2.06-.94-.94-2.06-.94 2.06-2.06.94zm-11 1L8.5 8.5l.94-2.06 2.06-.94-2.06-.94L8.5 2.5l-.94 2.06-2.06.94zm10 10l.94 2.06.94-2.06 2.06-.94-2.06-.94-.94-2.06-.94 2.06-2.06.94z\"/><path d=\"M17.41 7.96l-1.37-1.37c-.4-.4-.92-.59-1.43-.59-.52 0-1.04.2-1.43.59L10.3 9.45l-7.72 7.72c-.78.78-.78 2.05 0 2.83L4 21.41c.39.39.9.59 1.41.59.51 0 1.02-.2 1.41-.59l7.78-7.78 2.81-2.81c.8-.78.8-2.07 0-2.86zM5.41 20L4 18.59l7.72-7.72 1.47 1.35L5.41 20z\"/>\n",
              "  </svg>\n",
              "      </button>\n",
              "      \n",
              "  <style>\n",
              "    .colab-df-container {\n",
              "      display:flex;\n",
              "      flex-wrap:wrap;\n",
              "      gap: 12px;\n",
              "    }\n",
              "\n",
              "    .colab-df-convert {\n",
              "      background-color: #E8F0FE;\n",
              "      border: none;\n",
              "      border-radius: 50%;\n",
              "      cursor: pointer;\n",
              "      display: none;\n",
              "      fill: #1967D2;\n",
              "      height: 32px;\n",
              "      padding: 0 0 0 0;\n",
              "      width: 32px;\n",
              "    }\n",
              "\n",
              "    .colab-df-convert:hover {\n",
              "      background-color: #E2EBFA;\n",
              "      box-shadow: 0px 1px 2px rgba(60, 64, 67, 0.3), 0px 1px 3px 1px rgba(60, 64, 67, 0.15);\n",
              "      fill: #174EA6;\n",
              "    }\n",
              "\n",
              "    [theme=dark] .colab-df-convert {\n",
              "      background-color: #3B4455;\n",
              "      fill: #D2E3FC;\n",
              "    }\n",
              "\n",
              "    [theme=dark] .colab-df-convert:hover {\n",
              "      background-color: #434B5C;\n",
              "      box-shadow: 0px 1px 3px 1px rgba(0, 0, 0, 0.15);\n",
              "      filter: drop-shadow(0px 1px 2px rgba(0, 0, 0, 0.3));\n",
              "      fill: #FFFFFF;\n",
              "    }\n",
              "  </style>\n",
              "\n",
              "      <script>\n",
              "        const buttonEl =\n",
              "          document.querySelector('#df-d3d08750-378e-4881-b37d-c0b8cb7f39e2 button.colab-df-convert');\n",
              "        buttonEl.style.display =\n",
              "          google.colab.kernel.accessAllowed ? 'block' : 'none';\n",
              "\n",
              "        async function convertToInteractive(key) {\n",
              "          const element = document.querySelector('#df-d3d08750-378e-4881-b37d-c0b8cb7f39e2');\n",
              "          const dataTable =\n",
              "            await google.colab.kernel.invokeFunction('convertToInteractive',\n",
              "                                                     [key], {});\n",
              "          if (!dataTable) return;\n",
              "\n",
              "          const docLinkHtml = 'Like what you see? Visit the ' +\n",
              "            '<a target=\"_blank\" href=https://colab.research.google.com/notebooks/data_table.ipynb>data table notebook</a>'\n",
              "            + ' to learn more about interactive tables.';\n",
              "          element.innerHTML = '';\n",
              "          dataTable['output_type'] = 'display_data';\n",
              "          await google.colab.output.renderOutput(dataTable, element);\n",
              "          const docLink = document.createElement('div');\n",
              "          docLink.innerHTML = docLinkHtml;\n",
              "          element.appendChild(docLink);\n",
              "        }\n",
              "      </script>\n",
              "    </div>\n",
              "  </div>\n",
              "  "
            ],
            "text/plain": [
              "  Time from Start to Finish (seconds)                           Q1  \\\n",
              "0               Duration (in seconds)  What is your age (# years)?   \n",
              "1                                 910                        50-54   \n",
              "2                                 784                        50-54   \n",
              "3                                 924                        22-24   \n",
              "4                                 575                        45-49   \n",
              "\n",
              "                                       Q2  \\\n",
              "0  What is your gender? - Selected Choice   \n",
              "1                                     Man   \n",
              "2                                     Man   \n",
              "3                                     Man   \n",
              "4                                     Man   \n",
              "\n",
              "                                          Q3  \\\n",
              "0  In which country do you currently reside?   \n",
              "1                                      India   \n",
              "2                                  Indonesia   \n",
              "3                                   Pakistan   \n",
              "4                                     Mexico   \n",
              "\n",
              "                                                  Q4  \\\n",
              "0  What is the highest level of formal education ...   \n",
              "1                                  Bachelor’s degree   \n",
              "2                                    Master’s degree   \n",
              "3                                    Master’s degree   \n",
              "4                                    Doctoral degree   \n",
              "\n",
              "                                                  Q5  \\\n",
              "0  Select the title most similar to your current ...   \n",
              "1                                              Other   \n",
              "2                            Program/Project Manager   \n",
              "3                                  Software Engineer   \n",
              "4                                 Research Scientist   \n",
              "\n",
              "                                                  Q6  \\\n",
              "0  For how many years have you been writing code ...   \n",
              "1                                         5-10 years   \n",
              "2                                          20+ years   \n",
              "3                                          1-3 years   \n",
              "4                                          20+ years   \n",
              "\n",
              "                                           Q7_Part_1  \\\n",
              "0  What programming languages do you use on a reg...   \n",
              "1                                             Python   \n",
              "2                                                NaN   \n",
              "3                                             Python   \n",
              "4                                             Python   \n",
              "\n",
              "                                           Q7_Part_2  \\\n",
              "0  What programming languages do you use on a reg...   \n",
              "1                                                  R   \n",
              "2                                                NaN   \n",
              "3                                                NaN   \n",
              "4                                                NaN   \n",
              "\n",
              "                                           Q7_Part_3  ...  \\\n",
              "0  What programming languages do you use on a reg...  ...   \n",
              "1                                                NaN  ...   \n",
              "2                                                SQL  ...   \n",
              "3                                                NaN  ...   \n",
              "4                                                NaN  ...   \n",
              "\n",
              "                                        Q38_B_Part_5  \\\n",
              "0  In the next 2 years, do you hope to become mor...   \n",
              "1                                                NaN   \n",
              "2                                                NaN   \n",
              "3                                       TensorBoard    \n",
              "4                                                NaN   \n",
              "\n",
              "                                        Q38_B_Part_6  \\\n",
              "0  In the next 2 years, do you hope to become mor...   \n",
              "1                                                NaN   \n",
              "2                                                NaN   \n",
              "3                                                NaN   \n",
              "4                                                NaN   \n",
              "\n",
              "                                        Q38_B_Part_7  \\\n",
              "0  In the next 2 years, do you hope to become mor...   \n",
              "1                                                NaN   \n",
              "2                                                NaN   \n",
              "3                                                NaN   \n",
              "4                                                NaN   \n",
              "\n",
              "                                        Q38_B_Part_8  \\\n",
              "0  In the next 2 years, do you hope to become mor...   \n",
              "1                                                NaN   \n",
              "2                                                NaN   \n",
              "3                                                NaN   \n",
              "4                                                NaN   \n",
              "\n",
              "                                        Q38_B_Part_9  \\\n",
              "0  In the next 2 years, do you hope to become mor...   \n",
              "1                                                NaN   \n",
              "2                                                NaN   \n",
              "3                                                NaN   \n",
              "4                                                NaN   \n",
              "\n",
              "                                       Q38_B_Part_10  \\\n",
              "0  In the next 2 years, do you hope to become mor...   \n",
              "1                                                NaN   \n",
              "2                                                NaN   \n",
              "3                                                NaN   \n",
              "4                                                NaN   \n",
              "\n",
              "                                       Q38_B_Part_11  \\\n",
              "0  In the next 2 years, do you hope to become mor...   \n",
              "1                                                NaN   \n",
              "2                                               None   \n",
              "3                                                NaN   \n",
              "4                                               None   \n",
              "\n",
              "                                         Q38_B_OTHER Q25_Encoded  \\\n",
              "0  In the next 2 years, do you hope to become mor...         NaN   \n",
              "1                                                NaN         2.0   \n",
              "2                                                NaN         6.0   \n",
              "3                                                NaN         0.0   \n",
              "4                                                NaN         3.0   \n",
              "\n",
              "     Q25_buckets  \n",
              "0            NaN  \n",
              "1  20,000-29,999  \n",
              "2  60,000-69,999  \n",
              "3        0-9,999  \n",
              "4  30,000-39,999  \n",
              "\n",
              "[5 rows x 371 columns]"
            ]
          },
          "metadata": {},
          "execution_count": 114
        }
      ],
      "source": [
        "from google.colab import files \n",
        "uploaded = files.upload()\n",
        "#Read data into python \n",
        "df = pd.read_csv(\"clean_kaggle_data_2021.csv\", low_memory = False)\n",
        "df.head()\n"
      ]
    },
    {
      "cell_type": "markdown",
      "id": "e5366af5",
      "metadata": {
        "id": "e5366af5"
      },
      "source": [
        "# 1. Data Cleaning "
      ]
    },
    {
      "cell_type": "code",
      "execution_count": null,
      "id": "5151e0a3",
      "metadata": {
        "id": "5151e0a3"
      },
      "outputs": [],
      "source": [
        "#Drop column \"duration of finishing survey\" since it has no relationship with latter salary analysis\n",
        "#Drop column \"Q8: what programming language would you recommend an aspring data scientist to learn first\" since it has no relationship with latter salary analysis\n",
        "#Drop column \"Q28: favorite developer tool\" since it has no relationship with latter salary analysis\n",
        "#Drop column Q25 since Q25_buckets has included data in Q25 \n",
        "df.drop(columns = [\"Q8\",'Time from Start to Finish (seconds)', 'Q25', 'Q28'], inplace = True)\n"
      ]
    },
    {
      "cell_type": "markdown",
      "id": "1c264c76",
      "metadata": {
        "id": "1c264c76"
      },
      "source": [
        "## Encoding \n",
        "### Main Logic: \n",
        "### For all categorical variables in data, separate these categorical variables (columns) into: \n",
        "### 1. categorical variables with natural ranking (ordinal) -- Ordinal encoding \n",
        "### 2. categorical variables without natural ranking (nominal) -- one hot encoding "
      ]
    },
    {
      "cell_type": "markdown",
      "id": "2c3385bb",
      "metadata": {
        "id": "2c3385bb"
      },
      "source": [
        "## Handle missing values: \n",
        "### Main Logic: \n",
        "### Before encoding each single column, we will firstly deal with missing values either by drop whole columns or by filling missing values with mode."
      ]
    },
    {
      "cell_type": "code",
      "execution_count": null,
      "id": "9c1dadca",
      "metadata": {
        "id": "9c1dadca"
      },
      "outputs": [],
      "source": [
        "#Sperate columns into single columns and multi - columns so that I can appply different encoding methods to different types of columns \n",
        "#Single columns \n",
        "single_cols = [x for x in list(df.columns) if (\"Part\" not in x and \"OTHER\" not in x )]\n",
        "\n",
        "#Store the information referring to the 'meaning of each column' in the dictionary to faciliate latter analysis \n",
        "single_cols_info = {x:df[x][:1].values[0] for x in single_cols}\n",
        "#single_cols_info\n"
      ]
    },
    {
      "cell_type": "code",
      "execution_count": null,
      "id": "733827ac",
      "metadata": {
        "id": "733827ac"
      },
      "outputs": [],
      "source": [
        "#Multi-columns\n",
        "multi_cols = [x for x in list(df.columns) if x not in single_cols]\n",
        "#Store the information referring to the 'meaning of each column' in the dictionary to faciliate latter analysis \n",
        "multi_cols_info = {x:df[x][:1].values[0] for x in multi_cols}\n",
        "#multi_cols_info"
      ]
    },
    {
      "cell_type": "code",
      "execution_count": null,
      "id": "ddc52c96",
      "metadata": {
        "id": "ddc52c96"
      },
      "outputs": [],
      "source": [
        "#Drop the first 'question' row \n",
        "df.drop(index = 0, inplace= True)"
      ]
    },
    {
      "cell_type": "markdown",
      "id": "92fbeb81",
      "metadata": {
        "id": "92fbeb81"
      },
      "source": [
        "### For those single columns:\n",
        "### Some columns needs one hot coding, others need ordinal coding. \n",
        "### columns needing ordinal encoding: \n",
        "    Q1: Age Group \n",
        "    Q4: Education level \n",
        "    Q6: Years of programming \n",
        "    Q13: Times of using TPU\n",
        "    Q15: Years of using ML\n",
        "    Q21: Size of Company \n",
        "    Q22: Data Science workloads  \n",
        "    Q23: The duration of incoporating ML into business \n",
        "    Q26: Money Spent on ML and cloud computing\n",
        "    \n",
        "    \n",
        "### columns needing one hot encoding: \n",
        "     Q2: Gender \n",
        "     Q3: Country \n",
        "     Q5: Job\n",
        "     Q11: Type of computing platform used \n",
        "     Q20: Industry of Company \n",
        "     Q33: Data based used \n",
        "     Q35: Business Intelligence tool used often \n",
        "     Q41: Primary tool used to analyze data \n",
        "     "
      ]
    },
    {
      "cell_type": "markdown",
      "id": "af5b7424",
      "metadata": {
        "id": "af5b7424"
      },
      "source": [
        "### For those multi-columns:\n",
        "### All muti columns needs one hot encoding since they do not have ordinal features \n",
        "### Multi-columns needing one hot encoding: \n",
        "    Q7, Q9, Q10, Q12, Q14, Q16, Q17, Q18, Q19, Q24, Q27, Q29, Q30, Q31, Q32, Q34, Q36, Q37, Q38, Q39, Q40, Q42. \n",
        "    "
      ]
    },
    {
      "cell_type": "code",
      "execution_count": null,
      "id": "58a4496a",
      "metadata": {
        "id": "58a4496a"
      },
      "outputs": [],
      "source": [
        "#Encode columns \n",
        "#To create the dataframe including all encoded columns \n",
        "df2 = pd.DataFrame(df['Q25_Encoded'])\n",
        "\n",
        "#For single columns, separate the columns that need one hot encoding and the columns that need ordinal encoding \n",
        "ordinal_cols = ['Q1', 'Q4', 'Q6', 'Q13', 'Q15','Q21','Q22','Q23','Q26']\n",
        "one_hot_cols = ['Q2', 'Q3', 'Q5', 'Q11', 'Q20', 'Q33', 'Q35', 'Q41']"
      ]
    },
    {
      "cell_type": "markdown",
      "id": "b2552076",
      "metadata": {
        "id": "b2552076"
      },
      "source": [
        "### Below is the encoding process for single columns that need one hot coding:"
      ]
    },
    {
      "cell_type": "markdown",
      "id": "0846a162",
      "metadata": {
        "id": "0846a162"
      },
      "source": [
        "### Step 1: Handle missing values for single columns that need one hot encoding "
      ]
    },
    {
      "cell_type": "code",
      "execution_count": null,
      "id": "9531345f",
      "metadata": {
        "colab": {
          "base_uri": "https://localhost:8080/"
        },
        "id": "9531345f",
        "outputId": "e4760387-1778-43e5-dc0b-a08f21ab98e5"
      },
      "outputs": [
        {
          "output_type": "stream",
          "name": "stdout",
          "text": [
            "<class 'pandas.core.frame.DataFrame'>\n",
            "Int64Index: 15391 entries, 1 to 15391\n",
            "Data columns (total 8 columns):\n",
            " #   Column  Non-Null Count  Dtype \n",
            "---  ------  --------------  ----- \n",
            " 0   Q2      15391 non-null  object\n",
            " 1   Q3      15391 non-null  object\n",
            " 2   Q5      15391 non-null  object\n",
            " 3   Q11     14430 non-null  object\n",
            " 4   Q20     15391 non-null  object\n",
            " 5   Q33     4656 non-null   object\n",
            " 6   Q35     2237 non-null   object\n",
            " 7   Q41     13426 non-null  object\n",
            "dtypes: object(8)\n",
            "memory usage: 1.1+ MB\n"
          ]
        }
      ],
      "source": [
        "###Before processing specific columns with one hot encoding, we handle missing values in those columns \n",
        "df[one_hot_cols].info()"
      ]
    },
    {
      "cell_type": "code",
      "execution_count": null,
      "id": "0293252a",
      "metadata": {
        "id": "0293252a"
      },
      "outputs": [],
      "source": [
        "# Drop Q33, Q35 since these two columns has most of null values (Null values are too much)\n",
        "# It is meaningless to conduct analysis with columns having most of null values \n",
        "df.drop(columns = ['Q33', 'Q35'], inplace = True)"
      ]
    },
    {
      "cell_type": "code",
      "execution_count": null,
      "id": "da202b29",
      "metadata": {
        "colab": {
          "base_uri": "https://localhost:8080/"
        },
        "id": "da202b29",
        "outputId": "9fd95b5c-e45d-4bef-ad2b-00c9ad516c29"
      },
      "outputs": [
        {
          "output_type": "execute_result",
          "data": {
            "text/plain": [
              "A laptop                                                               8771\n",
              "A personal computer / desktop                                          3095\n",
              "A cloud computing platform (AWS, Azure, GCP, hosted notebooks, etc)    1705\n",
              "A deep learning workstation (NVIDIA GTX, LambdaLabs, etc)               593\n",
              "None                                                                    144\n",
              "Other                                                                   122\n",
              "Name: Q11, dtype: int64"
            ]
          },
          "metadata": {},
          "execution_count": 122
        }
      ],
      "source": [
        "# Check the mode in Q11 \n",
        "df['Q11'].value_counts()"
      ]
    },
    {
      "cell_type": "code",
      "execution_count": null,
      "id": "052cdf20",
      "metadata": {
        "id": "052cdf20"
      },
      "outputs": [],
      "source": [
        "# Fill missing values in Q11 with mode \n",
        "df['Q11'].fillna('A laptop', inplace = True)"
      ]
    },
    {
      "cell_type": "code",
      "execution_count": null,
      "id": "350b4a9d",
      "metadata": {
        "colab": {
          "base_uri": "https://localhost:8080/"
        },
        "id": "350b4a9d",
        "outputId": "8a375459-5dd5-4d8b-9b7e-d48144f0af8a"
      },
      "outputs": [
        {
          "output_type": "execute_result",
          "data": {
            "text/plain": [
              "0"
            ]
          },
          "metadata": {},
          "execution_count": 124
        }
      ],
      "source": [
        "#Check Q11 has no missing values now\n",
        "df['Q11'].isnull().sum()"
      ]
    },
    {
      "cell_type": "code",
      "execution_count": null,
      "id": "40baab7a",
      "metadata": {
        "colab": {
          "base_uri": "https://localhost:8080/"
        },
        "id": "40baab7a",
        "outputId": "270f7dff-f049-4a04-d276-8d1d54c20baf"
      },
      "outputs": [
        {
          "output_type": "execute_result",
          "data": {
            "text/plain": [
              "Local development environments (RStudio, JupyterLab, etc.)              5146\n",
              "Basic statistical software (Microsoft Excel, Google Sheets, etc.)       4967\n",
              "Business intelligence software (Salesforce, Tableau, Spotfire, etc.)     994\n",
              "Cloud-based data software & APIs (AWS, GCP, Azure, etc.)                 836\n",
              "Advanced statistical software (SPSS, SAS, etc.)                          746\n",
              "Other                                                                    737\n",
              "Name: Q41, dtype: int64"
            ]
          },
          "metadata": {},
          "execution_count": 125
        }
      ],
      "source": [
        "#Check the mode in Q41 \n",
        "df['Q41'].value_counts()"
      ]
    },
    {
      "cell_type": "code",
      "execution_count": null,
      "id": "16edaad1",
      "metadata": {
        "id": "16edaad1"
      },
      "outputs": [],
      "source": [
        "#Fill missing values in Q41 with mode \n",
        "df['Q41'].fillna('Local development environments (RStudio, JupyterLab, etc.)', inplace = True)"
      ]
    },
    {
      "cell_type": "code",
      "execution_count": null,
      "id": "8534f702",
      "metadata": {
        "colab": {
          "base_uri": "https://localhost:8080/"
        },
        "id": "8534f702",
        "outputId": "4c944c1e-8c1a-485f-acdf-e98d1f1abae5"
      },
      "outputs": [
        {
          "output_type": "execute_result",
          "data": {
            "text/plain": [
              "0"
            ]
          },
          "metadata": {},
          "execution_count": 127
        }
      ],
      "source": [
        "#Check Q41 has no missing values now\n",
        "df['Q41'].isnull().sum()"
      ]
    },
    {
      "cell_type": "markdown",
      "id": "9455f7bc",
      "metadata": {
        "id": "9455f7bc"
      },
      "source": [
        "### Step 2: Process specific single columns with one hot encoding "
      ]
    },
    {
      "cell_type": "code",
      "execution_count": null,
      "id": "a4df271f",
      "metadata": {
        "id": "a4df271f"
      },
      "outputs": [],
      "source": [
        "#One hot encode single columns \n",
        "# modify Q2 to facilitate men vs women analysis \n",
        "df['Q2'] = df['Q2'].map({'Man':'Man', 'Woman':'Woman'}).fillna('Other')\n",
        "\n",
        "#create dummy variable (0 or 1) for Q2:Gender \n",
        "dummy1 = pd.get_dummies(df['Q2'], prefix = 'Q2')"
      ]
    },
    {
      "cell_type": "code",
      "execution_count": null,
      "id": "901055fb",
      "metadata": {
        "id": "901055fb"
      },
      "outputs": [],
      "source": [
        "#create dummy variable (0 or 1) for Q3: Coountry \n",
        "dummy2 = pd.get_dummies(df['Q3'], prefix = 'Q3')"
      ]
    },
    {
      "cell_type": "code",
      "execution_count": null,
      "id": "c64d3dc1",
      "metadata": {
        "id": "c64d3dc1"
      },
      "outputs": [],
      "source": [
        "#create dummy variable (0 or 1) for Q5: Job\n",
        "dummy3 = pd.get_dummies(df['Q5'], prefix = 'Q5')"
      ]
    },
    {
      "cell_type": "code",
      "execution_count": null,
      "id": "4e8b46a2",
      "metadata": {
        "id": "4e8b46a2"
      },
      "outputs": [],
      "source": [
        "#create dummy variable (0 or 1) for Q11: Type of Computing platform used \n",
        "dummy4 = pd.get_dummies(df['Q11'], prefix = 'Q11')"
      ]
    },
    {
      "cell_type": "code",
      "execution_count": null,
      "id": "64210305",
      "metadata": {
        "id": "64210305"
      },
      "outputs": [],
      "source": [
        "#create dummy variable (0 or 1) for Q20: Industry of company \n",
        "dummy5 = pd.get_dummies(df['Q20'], prefix = 'Q20')"
      ]
    },
    {
      "cell_type": "code",
      "execution_count": null,
      "id": "762c807a",
      "metadata": {
        "id": "762c807a"
      },
      "outputs": [],
      "source": [
        "#create dummy variable (0 or 1) for Q41: Primary tool used to analyze data \n",
        "dummy7 = pd.get_dummies(df['Q41'], prefix = 'Q41')"
      ]
    },
    {
      "cell_type": "code",
      "execution_count": null,
      "id": "d35bccea",
      "metadata": {
        "id": "d35bccea"
      },
      "outputs": [],
      "source": [
        "#Concatenate all dummies with df2 \n",
        "df2 = pd.concat([df2, dummy1, dummy2, dummy3, dummy4, dummy5,dummy7],axis = 1)"
      ]
    },
    {
      "cell_type": "markdown",
      "id": "2dae3b6a",
      "metadata": {
        "id": "2dae3b6a"
      },
      "source": [
        "### Below is the encoding process for single columns that need ordinal coding:"
      ]
    },
    {
      "cell_type": "markdown",
      "id": "a1652ff4",
      "metadata": {
        "id": "a1652ff4"
      },
      "source": [
        "### Step 1:  Handle missing values for single columns that need ordinal encoding "
      ]
    },
    {
      "cell_type": "code",
      "execution_count": null,
      "id": "0726e78b",
      "metadata": {
        "colab": {
          "base_uri": "https://localhost:8080/"
        },
        "id": "0726e78b",
        "outputId": "ac527429-9a1b-4eee-844d-8cd49c023ed3"
      },
      "outputs": [
        {
          "output_type": "stream",
          "name": "stdout",
          "text": [
            "<class 'pandas.core.frame.DataFrame'>\n",
            "Int64Index: 15391 entries, 1 to 15391\n",
            "Data columns (total 9 columns):\n",
            " #   Column  Non-Null Count  Dtype \n",
            "---  ------  --------------  ----- \n",
            " 0   Q1      15391 non-null  object\n",
            " 1   Q4      15391 non-null  object\n",
            " 2   Q6      15391 non-null  object\n",
            " 3   Q13     14430 non-null  object\n",
            " 4   Q15     14430 non-null  object\n",
            " 5   Q21     15391 non-null  object\n",
            " 6   Q22     15391 non-null  object\n",
            " 7   Q23     15391 non-null  object\n",
            " 8   Q26     15183 non-null  object\n",
            "dtypes: object(9)\n",
            "memory usage: 1.2+ MB\n"
          ]
        }
      ],
      "source": [
        "df[ordinal_cols].info()"
      ]
    },
    {
      "cell_type": "code",
      "execution_count": null,
      "id": "54512a58",
      "metadata": {
        "colab": {
          "base_uri": "https://localhost:8080/"
        },
        "id": "54512a58",
        "outputId": "61a35da9-a72e-4432-a710-e388962d8b25"
      },
      "outputs": [
        {
          "output_type": "execute_result",
          "data": {
            "text/plain": [
              "Never                 9255\n",
              "2-5 times             2268\n",
              "Once                  1840\n",
              "6-25 times             625\n",
              "More than 25 times     442\n",
              "Name: Q13, dtype: int64"
            ]
          },
          "metadata": {},
          "execution_count": 136
        }
      ],
      "source": [
        "# Check the mode in Q13 \n",
        "df['Q13'].value_counts()"
      ]
    },
    {
      "cell_type": "code",
      "execution_count": null,
      "id": "0b4fa673",
      "metadata": {
        "id": "0b4fa673"
      },
      "outputs": [],
      "source": [
        "# Fill the missing values in Q13 with mode \n",
        "df['Q13'].fillna('Never', inplace = True)"
      ]
    },
    {
      "cell_type": "code",
      "execution_count": null,
      "id": "60d95bff",
      "metadata": {
        "colab": {
          "base_uri": "https://localhost:8080/"
        },
        "id": "60d95bff",
        "outputId": "2518ad84-4208-449e-930a-eeabd855c61d"
      },
      "outputs": [
        {
          "output_type": "execute_result",
          "data": {
            "text/plain": [
              "0"
            ]
          },
          "metadata": {},
          "execution_count": 138
        }
      ],
      "source": [
        "# Check no missing value in Q13 now\n",
        "df['Q13'].isnull().sum()"
      ]
    },
    {
      "cell_type": "code",
      "execution_count": null,
      "id": "77f69c98",
      "metadata": {
        "colab": {
          "base_uri": "https://localhost:8080/"
        },
        "id": "77f69c98",
        "outputId": "5de40968-93f0-402f-df01-e120c19d939f"
      },
      "outputs": [
        {
          "output_type": "execute_result",
          "data": {
            "text/plain": [
              "Under 1 year                             4514\n",
              "1-2 years                                2970\n",
              "I do not use machine learning methods    1867\n",
              "2-3 years                                1784\n",
              "3-4 years                                 967\n",
              "5-10 years                                960\n",
              "4-5 years                                 845\n",
              "10-20 years                               339\n",
              "20 or more years                          184\n",
              "Name: Q15, dtype: int64"
            ]
          },
          "metadata": {},
          "execution_count": 139
        }
      ],
      "source": [
        "# Check the mode in Q15\n",
        "df['Q15'].value_counts()"
      ]
    },
    {
      "cell_type": "code",
      "execution_count": null,
      "id": "a0d9e236",
      "metadata": {
        "id": "a0d9e236"
      },
      "outputs": [],
      "source": [
        "# Fill the missing values in Q15 with mode \n",
        "df['Q15'].fillna('Under 1 year', inplace = True)"
      ]
    },
    {
      "cell_type": "code",
      "execution_count": null,
      "id": "28a46f3e",
      "metadata": {
        "colab": {
          "base_uri": "https://localhost:8080/"
        },
        "id": "28a46f3e",
        "outputId": "94e17796-8df8-4246-f1b5-dcc2325c408f"
      },
      "outputs": [
        {
          "output_type": "execute_result",
          "data": {
            "text/plain": [
              "0"
            ]
          },
          "metadata": {},
          "execution_count": 141
        }
      ],
      "source": [
        "# Check no missing value in Q15\n",
        "df['Q15'].isnull().sum()"
      ]
    },
    {
      "cell_type": "code",
      "execution_count": null,
      "id": "41790859",
      "metadata": {
        "colab": {
          "base_uri": "https://localhost:8080/"
        },
        "id": "41790859",
        "outputId": "4d9cecef-ba04-45ab-878d-48e01ca2cd83"
      },
      "outputs": [
        {
          "output_type": "execute_result",
          "data": {
            "text/plain": [
              "$0 ($USD)                  5903\n",
              "$100-$999                  2534\n",
              "$1000-$9,999               2491\n",
              "$1-$99                     1929\n",
              "$10,000-$99,999            1309\n",
              "$100,000 or more ($USD)    1017\n",
              "Name: Q26, dtype: int64"
            ]
          },
          "metadata": {},
          "execution_count": 142
        }
      ],
      "source": [
        "# Check the mode in Q26\n",
        "df['Q26'].value_counts()"
      ]
    },
    {
      "cell_type": "code",
      "execution_count": null,
      "id": "9af21987",
      "metadata": {
        "id": "9af21987"
      },
      "outputs": [],
      "source": [
        "# Fill the missing values in Q26 with mode \n",
        "df['Q26'].fillna('$0 ($USD)', inplace = True)"
      ]
    },
    {
      "cell_type": "code",
      "execution_count": null,
      "id": "19f61c9c",
      "metadata": {
        "colab": {
          "base_uri": "https://localhost:8080/"
        },
        "id": "19f61c9c",
        "outputId": "61d2757b-d83c-4e5c-e25e-847e38bdeffc"
      },
      "outputs": [
        {
          "output_type": "execute_result",
          "data": {
            "text/plain": [
              "0"
            ]
          },
          "metadata": {},
          "execution_count": 144
        }
      ],
      "source": [
        "# Check no missing value in Q26\n",
        "df['Q26'].isnull().sum()"
      ]
    },
    {
      "cell_type": "markdown",
      "id": "3eab0cc5",
      "metadata": {
        "id": "3eab0cc5"
      },
      "source": [
        "### Step 2: Process specific single columns with ordinal encoding"
      ]
    },
    {
      "cell_type": "code",
      "execution_count": null,
      "id": "472e156c",
      "metadata": {
        "colab": {
          "base_uri": "https://localhost:8080/"
        },
        "id": "472e156c",
        "outputId": "40c38d3e-f61b-4e5d-b18c-b96882115db5"
      },
      "outputs": [
        {
          "output_type": "execute_result",
          "data": {
            "text/plain": [
              "25-29    3235\n",
              "30-34    2626\n",
              "22-24    2092\n",
              "35-39    1992\n",
              "40-44    1528\n",
              "45-49    1141\n",
              "18-21     931\n",
              "50-54     791\n",
              "55-59     504\n",
              "60-69     454\n",
              "70+        97\n",
              "Name: Q1, dtype: int64"
            ]
          },
          "metadata": {},
          "execution_count": 145
        }
      ],
      "source": [
        "df['Q1'].value_counts()"
      ]
    },
    {
      "cell_type": "code",
      "execution_count": null,
      "id": "dce1f3c7",
      "metadata": {
        "id": "dce1f3c7"
      },
      "outputs": [],
      "source": [
        "# Ordinally encode single columns \n",
        "# Create ordered numbers for Q1: Age Group \n",
        "df2['Q1'] = df['Q1'].map({'18-21':0, \"22-24\":1, \"25-29\":2, \"30-34\":3,\"35-39\":4, \"40-44\":5,\"45-49\":6,\n",
        "                         \"50-54\":7,\"55-59\":8,\"60-69\":9,\"70+\":10})"
      ]
    },
    {
      "cell_type": "code",
      "execution_count": null,
      "id": "a1fb53b1",
      "metadata": {
        "colab": {
          "base_uri": "https://localhost:8080/"
        },
        "id": "a1fb53b1",
        "outputId": "237c24c6-a2c7-4cb5-9c0d-96dbc8691935"
      },
      "outputs": [
        {
          "output_type": "execute_result",
          "data": {
            "text/plain": [
              "Master’s degree                                                      6799\n",
              "Bachelor’s degree                                                    4777\n",
              "Doctoral degree                                                      2217\n",
              "Some college/university study without earning a bachelor’s degree     746\n",
              "I prefer not to answer                                                334\n",
              "Professional doctorate                                                290\n",
              "No formal education past high school                                  228\n",
              "Name: Q4, dtype: int64"
            ]
          },
          "metadata": {},
          "execution_count": 147
        }
      ],
      "source": [
        "df['Q4'].value_counts()"
      ]
    },
    {
      "cell_type": "code",
      "execution_count": null,
      "id": "58a6d7ce",
      "metadata": {
        "id": "58a6d7ce"
      },
      "outputs": [],
      "source": [
        "# Create ordered numbers for Q4: Education \n",
        "df2['Q4'] = df['Q4'].map({'No formal education past high school' :0,\n",
        "                          'Some college/university study without earning a bachelor’s degree': 1,\n",
        "                         'Bachelor’s degree': 2,\n",
        "                         'Master’s degree': 3,\n",
        "                         'Doctoral degree': 4,\n",
        "                         'Professional doctorate': 5, \n",
        "                         'I prefer not to answer': 3})"
      ]
    },
    {
      "cell_type": "code",
      "execution_count": null,
      "id": "8e27505b",
      "metadata": {
        "colab": {
          "base_uri": "https://localhost:8080/"
        },
        "id": "8e27505b",
        "outputId": "eb6ee071-6124-4922-e096-1fa528992fa1"
      },
      "outputs": [
        {
          "output_type": "execute_result",
          "data": {
            "text/plain": [
              "1-3 years                    3691\n",
              "< 1 years                    2463\n",
              "3-5 years                    2461\n",
              "5-10 years                   2345\n",
              "10-20 years                  1846\n",
              "20+ years                    1624\n",
              "I have never written code     961\n",
              "Name: Q6, dtype: int64"
            ]
          },
          "metadata": {},
          "execution_count": 149
        }
      ],
      "source": [
        "df['Q6'].value_counts()"
      ]
    },
    {
      "cell_type": "code",
      "execution_count": null,
      "id": "3e4f6c4a",
      "metadata": {
        "id": "3e4f6c4a"
      },
      "outputs": [],
      "source": [
        "# Create ordered numbers for Q6: Years of programming \n",
        "df2['Q6'] = df['Q6'].map({'I have never written code': 0, '< 1 years': 1, '1-3 years': 2, \n",
        "                                    '3-5 years': 3, '5-10 years': 4, \n",
        "                                    '10-20 years':5, '20+ years': 6})"
      ]
    },
    {
      "cell_type": "code",
      "execution_count": null,
      "id": "263ae4f8",
      "metadata": {
        "colab": {
          "base_uri": "https://localhost:8080/"
        },
        "id": "263ae4f8",
        "outputId": "33cb3f12-c7e5-46e7-a095-9bec782a4f51"
      },
      "outputs": [
        {
          "output_type": "execute_result",
          "data": {
            "text/plain": [
              "Never                 10216\n",
              "2-5 times              2268\n",
              "Once                   1840\n",
              "6-25 times              625\n",
              "More than 25 times      442\n",
              "Name: Q13, dtype: int64"
            ]
          },
          "metadata": {},
          "execution_count": 151
        }
      ],
      "source": [
        "df['Q13'].value_counts()"
      ]
    },
    {
      "cell_type": "code",
      "execution_count": null,
      "id": "96c1f92e",
      "metadata": {
        "id": "96c1f92e"
      },
      "outputs": [],
      "source": [
        "# create ordered numbers for Q13: Times of using TPU\n",
        "df2['Q13'] = df['Q13'].map({'Never': 0, 'Once': 1, \n",
        "                                    '2-5 times': 2, '6-25 times': 3, \n",
        "                                    'More than 25 times':4})"
      ]
    },
    {
      "cell_type": "code",
      "execution_count": null,
      "id": "5d9c651a",
      "metadata": {
        "colab": {
          "base_uri": "https://localhost:8080/"
        },
        "id": "5d9c651a",
        "outputId": "2afa9e5b-955d-4e83-ba4f-bb9e0dd5fd79"
      },
      "outputs": [
        {
          "output_type": "execute_result",
          "data": {
            "text/plain": [
              "Under 1 year                             5475\n",
              "1-2 years                                2970\n",
              "I do not use machine learning methods    1867\n",
              "2-3 years                                1784\n",
              "3-4 years                                 967\n",
              "5-10 years                                960\n",
              "4-5 years                                 845\n",
              "10-20 years                               339\n",
              "20 or more years                          184\n",
              "Name: Q15, dtype: int64"
            ]
          },
          "metadata": {},
          "execution_count": 153
        }
      ],
      "source": [
        "df['Q15'].value_counts()"
      ]
    },
    {
      "cell_type": "code",
      "execution_count": null,
      "id": "9d70c6e4",
      "metadata": {
        "id": "9d70c6e4"
      },
      "outputs": [],
      "source": [
        "# create ordered numbers for Q15: Years of ML\n",
        "df2['Q15'] = df['Q15'].map({'I do not use machine learning methods': 0, 'Under 1 year': 1, '1-2 years': 2, \n",
        "                            '2-3 years': 3, '3-4 years': 4, '4-5 years':5, \n",
        "                            '5-10 years': 6,'10-20 years': 7, '20 or more years': 8}\n",
        "                           )"
      ]
    },
    {
      "cell_type": "code",
      "execution_count": null,
      "id": "a7a42ebb",
      "metadata": {
        "colab": {
          "base_uri": "https://localhost:8080/"
        },
        "id": "a7a42ebb",
        "outputId": "65acece9-8889-44c4-dc63-7f8259093b43"
      },
      "outputs": [
        {
          "output_type": "execute_result",
          "data": {
            "text/plain": [
              "0-49 employees              4683\n",
              "10,000 or more employees    3236\n",
              "1000-9,999 employees        2928\n",
              "50-249 employees            2476\n",
              "250-999 employees           2068\n",
              "Name: Q21, dtype: int64"
            ]
          },
          "metadata": {},
          "execution_count": 155
        }
      ],
      "source": [
        "df['Q21'].value_counts()"
      ]
    },
    {
      "cell_type": "code",
      "execution_count": null,
      "id": "4c698def",
      "metadata": {
        "id": "4c698def"
      },
      "outputs": [],
      "source": [
        "# create ordered numbers for Q21: Size of company\n",
        "df2['Q21'] = df['Q21'].map({'0-49 employees': 1, '50-249 employees': 5, \n",
        "                                        '250-999 employees': 20, \n",
        "                                        '1000-9,999 employees': 200, \n",
        "                                        '10,000 or more employees': 250})"
      ]
    },
    {
      "cell_type": "code",
      "execution_count": null,
      "id": "b36eb9cf",
      "metadata": {
        "colab": {
          "base_uri": "https://localhost:8080/"
        },
        "id": "b36eb9cf",
        "outputId": "edbe8e4f-d856-4ac0-cc81-256164590b70"
      },
      "outputs": [
        {
          "output_type": "execute_result",
          "data": {
            "text/plain": [
              "1-2      3483\n",
              "20+      3435\n",
              "0        2876\n",
              "3-4      2453\n",
              "5-9      1782\n",
              "10-14     957\n",
              "15-19     405\n",
              "Name: Q22, dtype: int64"
            ]
          },
          "metadata": {},
          "execution_count": 157
        }
      ],
      "source": [
        "df['Q22'].value_counts()"
      ]
    },
    {
      "cell_type": "code",
      "execution_count": null,
      "id": "b77dac4e",
      "metadata": {
        "id": "b77dac4e"
      },
      "outputs": [],
      "source": [
        "# create ordered numbers for Q22: Data Science workload of business \n",
        "df2['Q22']= df['Q22'].map({'0': 0,\n",
        "               '1-2': 1,\n",
        "               '3-4': 2,\n",
        "               '5-9': 3,\n",
        "               '10-14': 4,\n",
        "               '15-19':5,\n",
        "                '20+': 6})"
      ]
    },
    {
      "cell_type": "code",
      "execution_count": null,
      "id": "826a264d",
      "metadata": {
        "colab": {
          "base_uri": "https://localhost:8080/"
        },
        "id": "826a264d",
        "outputId": "cfc56579-168d-4264-ebce-81302ad37f92"
      },
      "outputs": [
        {
          "output_type": "execute_result",
          "data": {
            "text/plain": [
              "We are exploring ML methods (and may one day put a model into production)                    3285\n",
              "No (we do not use ML methods)                                                                3161\n",
              "I do not know                                                                                2550\n",
              "We have well established ML methods (i.e., models in production for more than 2 years)       2546\n",
              "We recently started using ML methods (i.e., models in production for less than 2 years)      2196\n",
              "We use ML methods for generating insights (but do not put working models into production)    1653\n",
              "Name: Q23, dtype: int64"
            ]
          },
          "metadata": {},
          "execution_count": 159
        }
      ],
      "source": [
        "df['Q23'].value_counts()"
      ]
    },
    {
      "cell_type": "code",
      "execution_count": null,
      "id": "11010181",
      "metadata": {
        "id": "11010181"
      },
      "outputs": [],
      "source": [
        "# create ordered numbers for Q23: The duration of incoporating ML into business \n",
        "df2['Q23']= df['Q23'].map({'No (we do not use ML methods)': 0,\n",
        "               'We are exploring ML methods (and may one day put a model into production)': 1,\n",
        "               'We use ML methods for generating insights (but do not put working models into production)': 2,\n",
        "               'We recently started using ML methods (i.e., models in production for less than 2 years)': 3,\n",
        "               'We have well established ML methods (i.e., models in production for more than 2 years)': 4,\n",
        "               'I do not know':1})\n"
      ]
    },
    {
      "cell_type": "code",
      "execution_count": null,
      "id": "200e1be6",
      "metadata": {
        "colab": {
          "base_uri": "https://localhost:8080/"
        },
        "id": "200e1be6",
        "outputId": "e69109b7-b0e0-459e-93de-b4efd3d2ee3e"
      },
      "outputs": [
        {
          "output_type": "execute_result",
          "data": {
            "text/plain": [
              "$0 ($USD)                  6111\n",
              "$100-$999                  2534\n",
              "$1000-$9,999               2491\n",
              "$1-$99                     1929\n",
              "$10,000-$99,999            1309\n",
              "$100,000 or more ($USD)    1017\n",
              "Name: Q26, dtype: int64"
            ]
          },
          "metadata": {},
          "execution_count": 161
        }
      ],
      "source": [
        "df['Q26'].value_counts()"
      ]
    },
    {
      "cell_type": "code",
      "execution_count": null,
      "id": "699c6532",
      "metadata": {
        "id": "699c6532"
      },
      "outputs": [],
      "source": [
        "# Create ordered numbers for Q26: Money spent on ML and cloud computing \n",
        "df2['Q26'] = df['Q26'].map({'$0 ($USD)': 0, '$1-$99': 1, '$100-$999': 10, \n",
        "                            '$1000-$9,999': 100, '$10,000-$99,999': 1000, \n",
        "                            '$100,000 or more ($USD)':2000}).fillna(df['Q26'])"
      ]
    },
    {
      "cell_type": "code",
      "execution_count": null,
      "id": "4b94eed4",
      "metadata": {
        "colab": {
          "base_uri": "https://localhost:8080/"
        },
        "id": "4b94eed4",
        "outputId": "5a2aaca5-fc4f-46c6-a514-42e875f08793"
      },
      "outputs": [
        {
          "output_type": "execute_result",
          "data": {
            "text/plain": [
              "[]"
            ]
          },
          "metadata": {},
          "execution_count": 163
        }
      ],
      "source": [
        "# Check if has null values to ensure missing values in those single columns are all handled\n",
        "df2.columns[df2.isnull().any()].tolist()"
      ]
    },
    {
      "cell_type": "markdown",
      "id": "c2070353",
      "metadata": {
        "id": "c2070353"
      },
      "source": [
        "### Below is the encoding process for multi-columns: "
      ]
    },
    {
      "cell_type": "markdown",
      "id": "46d1d28c",
      "metadata": {
        "id": "46d1d28c"
      },
      "source": [
        "### Step 1: Process muti-columns with one hot encoding directly "
      ]
    },
    {
      "cell_type": "code",
      "execution_count": null,
      "id": "1d3ae7b8",
      "metadata": {
        "id": "1d3ae7b8"
      },
      "outputs": [],
      "source": [
        "#hide unncessary warnings \n",
        "import warnings\n",
        "warnings.filterwarnings(\"ignore\")\n",
        "\n",
        "# One hot encode multi columns \n",
        "for col in multi_cols:\n",
        "    df.at[df[col].notnull(), col] = 1  #If not null in multi cols, then set it as 1 \n",
        "    df.at[df[col].isnull(), col] = 0   #If null in multi cols, then set it as 0 \n",
        "    df2[col] = df[col] \n"
      ]
    },
    {
      "cell_type": "code",
      "execution_count": null,
      "id": "19198bae",
      "metadata": {
        "id": "19198bae"
      },
      "outputs": [],
      "source": [
        "#Rearrange the sequence of columns \n",
        "df2 = df2.reindex(sorted(df2.columns),axis = 1)\n",
        "\n",
        "#Ensure all values are numeric to ensure latter modeling analysis\n",
        "df2 = df2.astype(int)\n",
        "\n"
      ]
    },
    {
      "cell_type": "markdown",
      "id": "f4135b09",
      "metadata": {
        "id": "f4135b09"
      },
      "source": [
        "# 2. Exploratory data analysis and feature selection"
      ]
    },
    {
      "cell_type": "code",
      "execution_count": null,
      "id": "bde7dadd",
      "metadata": {
        "id": "bde7dadd"
      },
      "outputs": [],
      "source": [
        "#Store features into x \n",
        "x = df2.drop(['Q25_Encoded'], axis = 1)\n",
        "#Store target variable into y \n",
        "y = df2['Q25_Encoded']\n",
        "\n",
        "# split data into train data and test data with 30% test size \n",
        "x_train,x_test,y_train,y_test = train_test_split(x,y, random_state = 42, test_size = 0.3)"
      ]
    },
    {
      "cell_type": "code",
      "execution_count": null,
      "id": "9ca812a0",
      "metadata": {
        "id": "9ca812a0"
      },
      "outputs": [],
      "source": [
        "# we store the training data into df2_train and then perform feature selection on the training data\n",
        "df2_train = pd.concat([x_train, y_train], axis =1)\n"
      ]
    },
    {
      "cell_type": "code",
      "execution_count": null,
      "id": "ee06335e",
      "metadata": {
        "colab": {
          "base_uri": "https://localhost:8080/"
        },
        "id": "ee06335e",
        "outputId": "713d36cb-8619-4999-84a5-0b3e39a3534b"
      },
      "outputs": [
        {
          "output_type": "execute_result",
          "data": {
            "text/plain": [
              "Q25_Encoded                    1.000000\n",
              "Q3_United States of America    0.479561\n",
              "Q6                             0.395582\n",
              "Q26                            0.390068\n",
              "Q1                             0.377073\n",
              "Q15                            0.358882\n",
              "Q23                            0.290667\n",
              "Q22                            0.256572\n",
              "Q30_A_Part_3                   0.229759\n",
              "Q21                            0.222159\n",
              "Q27_A_Part_1                   0.213338\n",
              "Q24_Part_3                     0.213309\n",
              "Q29_A_Part_1                   0.209096\n",
              "Q7_Part_10                     0.178203\n",
              "Q9_Part_9                      0.172205\n",
              "Q4                             0.168406\n",
              "Q17_Part_3                     0.167632\n",
              "Q39_Part_9                     0.156919\n",
              "Q24_Part_5                     0.150480\n",
              "Q32_B_Part_1                  -0.150171\n",
              "Q11_A laptop                  -0.150258\n",
              "Q31_B_Part_3                  -0.151345\n",
              "Q20_Academics/Education       -0.163674\n",
              "Q3_India                      -0.244722\n",
              "Name: Q25_Encoded, dtype: float64"
            ]
          },
          "metadata": {},
          "execution_count": 168
        }
      ],
      "source": [
        "# Calculate the correlation between the target variable (y) and independent variables (x)\n",
        "corr_matrix = df2_train.corr()['Q25_Encoded']\n",
        "#Select the features whose correlation with the target variable > 0.15\n",
        "corr_selected = corr_matrix[abs(corr_matrix)>= 0.15]\n",
        "#Rank the selected features in the descending order \n",
        "corr_rank = corr_selected.sort_values(ascending = False)\n",
        "corr_rank"
      ]
    },
    {
      "cell_type": "code",
      "execution_count": null,
      "id": "a3a2ef41",
      "metadata": {
        "id": "a3a2ef41"
      },
      "outputs": [],
      "source": [
        "#Rename the feature names \n",
        "corr_rank = corr_rank.rename(index = {\n",
        "    'Q3_United States of America': 'Q3_USA',\n",
        "    'Q20_Academics/Education':'Q20_Academics'})"
      ]
    },
    {
      "cell_type": "code",
      "execution_count": null,
      "id": "20c5ac9d",
      "metadata": {
        "colab": {
          "base_uri": "https://localhost:8080/"
        },
        "id": "20c5ac9d",
        "outputId": "3dd9e7d5-0857-4ae9-c4b4-aa75040e6675"
      },
      "outputs": [
        {
          "output_type": "execute_result",
          "data": {
            "text/plain": [
              "23"
            ]
          },
          "metadata": {},
          "execution_count": 170
        }
      ],
      "source": [
        "#Count the total number of selected features \n",
        "len(corr_rank) -1 "
      ]
    },
    {
      "cell_type": "code",
      "execution_count": null,
      "id": "9b1c4c04",
      "metadata": {
        "colab": {
          "base_uri": "https://localhost:8080/",
          "height": 369
        },
        "id": "9b1c4c04",
        "outputId": "ba58ec96-adec-4fed-f39b-9aef5b23b8c8"
      },
      "outputs": [
        {
          "output_type": "display_data",
          "data": {
            "image/png": "[encoded data removed]",
            "text/plain": [
              "<Figure size 1152x360 with 1 Axes>"
            ]
          },
          "metadata": {
            "needs_background": "light"
          }
        }
      ],
      "source": [
        "# Plot correlation plot to visualize the order of feature importance among those selected 23 features and target variable\n",
        "fig, ax = plt.subplots(figsize = (16,5))\n",
        "plt.bar(corr_rank.index, corr_rank, label = \"Feature\", color = \"coral\")\n",
        "\n",
        "#Formatting\n",
        "plt.xticks(rotation = 90)\n",
        "ax.legend()\n",
        "plt.title(\"Figure 1: The correlation of Q25_Encoded and Top 23 important features ranked in descending order\", fontsize = 16)\n",
        "plt.grid(alpha = 0.4)\n",
        "plt.tight_layout()\n",
        "plt.show()"
      ]
    },
    {
      "cell_type": "code",
      "execution_count": null,
      "id": "033fb790",
      "metadata": {
        "colab": {
          "base_uri": "https://localhost:8080/"
        },
        "id": "033fb790",
        "outputId": "2a48a0b9-aff6-425c-f668-cdb78897c66c"
      },
      "outputs": [
        {
          "output_type": "stream",
          "name": "stdout",
          "text": [
            "As seen in the Figure1, arrtibute: Q3_USA (residence country is US) is mostly related to survey respondents' yearly compensations. \n",
            "\n",
            "Furthermore, Q6(Years of programming), Q26(Money spent on ML and cloud computing),Q1(Age group), Q15(Years of machine learning) are also closely related to the yearly compensation \n"
          ]
        }
      ],
      "source": [
        "print(\"As seen in the Figure1, arrtibute: Q3_USA (residence country is US) is mostly related to survey respondents' yearly compensations. \\n\")\n",
        "print(\"Furthermore, Q6(Years of programming), Q26(Money spent on ML and cloud computing),Q1(Age group), Q15(Years of machine learning) are also closely related to the yearly compensation \")"
      ]
    },
    {
      "cell_type": "code",
      "execution_count": null,
      "id": "a9d0b2ac",
      "metadata": {
        "id": "a9d0b2ac"
      },
      "outputs": [],
      "source": [
        "# Filter only Top 23 correlated features and target variable on the training data to get df3_train\n",
        "df3_train = df2_train[['Q25_Encoded','Q3_United States of America','Q6','Q26','Q1','Q15','Q23','Q22',\n",
        "          'Q30_A_Part_3','Q21', 'Q27_A_Part_1','Q24_Part_3','Q29_A_Part_1','Q7_Part_10','Q9_Part_9',\n",
        "          'Q4','Q17_Part_3','Q39_Part_9', 'Q24_Part_5','Q32_B_Part_1','Q11_A laptop','Q31_B_Part_3',\n",
        "          'Q20_Academics/Education','Q3_India']]\n",
        "\n",
        "#Calculate correlation \n",
        "correlation = df3_train.corr()\n",
        "\n",
        "#Filter correlations with only correlation with target variable more than 0.15\n",
        "#corr = correlation[abs(correlation['Q25_Encoded'])>=0.15]\n",
        "\n",
        "#Rename the feature name to faciliate latter graphing \n",
        "correlation.rename(columns = {\n",
        "    'Q3_United States of America': 'Q3_USA',\n",
        "    'Q20_Academics/Education':'Q20_Academics'},\n",
        "            index = {\n",
        "    'Q3_United States of America': 'Q3_USA',\n",
        "    'Q20_Academics/Education':'Q20_Academics'}, inplace = True)\n"
      ]
    },
    {
      "cell_type": "code",
      "execution_count": null,
      "id": "ea703ca8",
      "metadata": {
        "colab": {
          "base_uri": "https://localhost:8080/",
          "height": 1000
        },
        "id": "ea703ca8",
        "outputId": "d8b675ed-4b99-4cc7-dd26-f5271292899c"
      },
      "outputs": [
        {
          "output_type": "display_data",
          "data": {
            "image/png": "[encoded data removed]",
            "text/plain": [
              "<Figure size 1728x1728 with 2 Axes>"
            ]
          },
          "metadata": {
            "needs_background": "light"
          }
        }
      ],
      "source": [
        "#Plot the correlation matrix of Top 23 features and target variable\n",
        "fig, ax = plt.subplots(figsize = (24,24))\n",
        "sns.heatmap(correlation, xticklabels= correlation.columns, yticklabels = correlation.columns, annot = True, square = True, alpha = 1)\n",
        "plt.title('Figure 2: Correlation Matrix of Top 23 important Features and Targeted Variable', fontsize = 16, pad = 20)\n",
        "plt.tight_layout()\n",
        "plt.show()\n",
        "\n",
        "\n"
      ]
    },
    {
      "cell_type": "code",
      "execution_count": null,
      "id": "7d7ce416",
      "metadata": {
        "colab": {
          "base_uri": "https://localhost:8080/"
        },
        "id": "7d7ce416",
        "outputId": "7bb69ef3-2ac1-45f4-bc7e-24bd23663d29"
      },
      "outputs": [
        {
          "output_type": "stream",
          "name": "stdout",
          "text": [
            "The benefits of feature engineering:\n",
            "\n",
            "Feature engineering is a useful tool which helps us to select good features to be included in the model and exclude the bad features.\n",
            "\n",
            "The model with good features could give more precise predictions.\n",
            "\n",
            "Feature engineering could not help us to train a more precise predictive model, but also could give us a less complex model, further improving the running velocity.\n",
            "\n"
          ]
        }
      ],
      "source": [
        "print(\"The benefits of feature engineering:\\n\")\n",
        "print(\"Feature engineering is a useful tool which helps us to select good features to be included in the model and exclude the bad features.\\n\")\n",
        "print(\"The model with good features could give more precise predictions.\\n\")\n",
        "print (\"Feature engineering could not help us to train a more precise predictive model, but also could give us a less complex model, further improving the running velocity.\\n\")\n"
      ]
    },
    {
      "cell_type": "code",
      "execution_count": null,
      "id": "0f1463cd",
      "metadata": {
        "colab": {
          "base_uri": "https://localhost:8080/"
        },
        "id": "0f1463cd",
        "outputId": "a635efdb-4ead-4a64-d775-14241ed3ad02"
      },
      "outputs": [
        {
          "output_type": "stream",
          "name": "stdout",
          "text": [
            "The justification of my process of feature engineering are shown in below:\n",
            " \n",
            "In this assignment, I use one of the feature engineering technique: Correlation Value to choose the significant features.\n",
            "\n",
            "Good features mean those features have high correlation with the target variable and have low correlation with other selected features.\n",
            "\n",
            "I apply the correlation this feature engineering technique to choose the important features whose correlation with Q25_Encoded > 0.15.\n",
            "\n",
            "The reasons of choosing correlation = 0.15 as boundary to select the features are: \n",
            "\n",
            "1. I want to include certain amount of features in the model since raising the boundary would significnatly reduce the number of features (large proportion of selected features have correlation from 0.15 to 0.2.)\n",
            "\n",
            "2. I also want to include those negative correlations at around 0.15 since both of positive and negative correlations worth further studying. I am interested in those negative correlations. Only including features who have positive correlation with target variable may not give comprehensive analysis.\n",
            " \n",
            "3. Lowering the boundary would result in the excessive amount of features and may cause the excessive complexity of model. Furthermore, the correlation below 0.15 is too low to be worth studying.\n",
            "\n",
            "Based on above three reasons, I think 0.15 is the appropriate boundary and choose 0.15 as correlation boundary to select the features.\n"
          ]
        }
      ],
      "source": [
        "print (\"The justification of my process of feature engineering are shown in below:\\n \")\n",
        "print(\"In this assignment, I use one of the feature engineering technique: Correlation Value to choose the significant features.\\n\")\n",
        "print(\"Good features mean those features have high correlation with the target variable and have low correlation with other selected features.\\n\")\n",
        "print(\"I apply the correlation this feature engineering technique to choose the important features whose correlation with Q25_Encoded > 0.15.\\n\")\n",
        "print(\"The reasons of choosing correlation = 0.15 as boundary to select the features are: \\n\")\n",
        "print(\"1. I want to include certain amount of features in the model since raising the boundary would significnatly reduce the number of features (large proportion of selected features have correlation from 0.15 to 0.2.)\\n\")\n",
        "print(\"2. I also want to include those negative correlations at around 0.15 since both of positive and negative correlations worth further studying. I am interested in those negative correlations. Only including features who have positive correlation with target variable may not give comprehensive analysis.\\n \")\n",
        "print(\"3. Lowering the boundary would result in the excessive amount of features and may cause the excessive complexity of model. Furthermore, the correlation below 0.15 is too low to be worth studying.\\n\")\n",
        "print(\"Based on above three reasons, I think 0.15 is the appropriate boundary and choose 0.15 as correlation boundary to select the features.\")\n"
      ]
    },
    {
      "cell_type": "code",
      "execution_count": null,
      "id": "db154172",
      "metadata": {
        "colab": {
          "base_uri": "https://localhost:8080/"
        },
        "id": "db154172",
        "outputId": "bba8843f-5144-40de-df6a-374b095179a4"
      },
      "outputs": [
        {
          "output_type": "stream",
          "name": "stdout",
          "text": [
            "As seen in above correlation plot and correlation matrix, we get the Top23 important features' correlations with Q25_Encoded and also the correlations with other selected features.\n",
            "\n",
            "These selected 23 features look good. They have high correlation with target variable and low correlation with any other selected features to avoid multicollinearity. Thus, I decide to include those top 23 features in the latter model.\n"
          ]
        }
      ],
      "source": [
        "print(\"As seen in above correlation plot and correlation matrix, we get the Top23 important features' correlations with Q25_Encoded and also the correlations with other selected features.\\n\")\n",
        "print(\"These selected 23 features look good. They have high correlation with target variable and low correlation with any other selected features to avoid multicollinearity. Thus, I decide to include those top 23 features in the latter model.\")"
      ]
    },
    {
      "cell_type": "code",
      "execution_count": null,
      "id": "15b2814a",
      "metadata": {
        "id": "15b2814a"
      },
      "outputs": [],
      "source": [
        "#Filter both of training and testing data with selected Top 23 important features \n",
        "x_train = x_train[['Q3_United States of America','Q6','Q26','Q1','Q15','Q23','Q22',\n",
        "          'Q30_A_Part_3','Q21', 'Q27_A_Part_1','Q24_Part_3','Q29_A_Part_1','Q7_Part_10','Q9_Part_9',\n",
        "          'Q4','Q17_Part_3','Q39_Part_9', 'Q24_Part_5','Q32_B_Part_1','Q11_A laptop','Q31_B_Part_3',\n",
        "          'Q20_Academics/Education','Q3_India']]\n",
        "\n",
        "x_test = x_test [['Q3_United States of America','Q6','Q26','Q1','Q15','Q23','Q22',\n",
        "          'Q30_A_Part_3','Q21', 'Q27_A_Part_1','Q24_Part_3','Q29_A_Part_1','Q7_Part_10','Q9_Part_9',\n",
        "          'Q4','Q17_Part_3','Q39_Part_9', 'Q24_Part_5','Q32_B_Part_1','Q11_A laptop','Q31_B_Part_3',\n",
        "          'Q20_Academics/Education','Q3_India']]"
      ]
    },
    {
      "cell_type": "markdown",
      "id": "b49739d1",
      "metadata": {
        "id": "b49739d1"
      },
      "source": [
        "# 3. Model Implementation"
      ]
    },
    {
      "cell_type": "code",
      "execution_count": null,
      "id": "d70c9ec4",
      "metadata": {
        "colab": {
          "base_uri": "https://localhost:8080/"
        },
        "id": "d70c9ec4",
        "outputId": "7bed86a2-b5e4-4f06-e2a4-bd98b79dd29a"
      },
      "outputs": [
        {
          "output_type": "execute_result",
          "data": {
            "text/plain": [
              "array([ 2.,  6.,  0.,  3.,  1.,  7., 10.,  4.,  5., 14., 13., 11.,  8.,\n",
              "        9., 12.])"
            ]
          },
          "metadata": {},
          "execution_count": 179
        }
      ],
      "source": [
        "# To see the number of the classes of target variable \n",
        "df['Q25_Encoded'].unique()"
      ]
    },
    {
      "cell_type": "code",
      "execution_count": null,
      "id": "6598c9c9",
      "metadata": {
        "colab": {
          "base_uri": "https://localhost:8080/"
        },
        "id": "6598c9c9",
        "outputId": "e99bc33f-6e0c-496f-83a5-e44753df9e48"
      },
      "outputs": [
        {
          "output_type": "stream",
          "name": "stdout",
          "text": [
            "X_train shape:  (10773, 23)\n",
            "X_test shape:  (4618, 23)\n",
            "y_train shape:  (10773,)\n",
            "y_test shape:  (4618,)\n"
          ]
        }
      ],
      "source": [
        "print(\"X_train shape: \", x_train.shape)\n",
        "print(\"X_test shape: \", x_test.shape)\n",
        "print(\"y_train shape: \", y_train.shape)\n",
        "print(\"y_test shape: \", y_test.shape)"
      ]
    },
    {
      "cell_type": "code",
      "execution_count": null,
      "id": "ba6febef",
      "metadata": {
        "id": "ba6febef"
      },
      "outputs": [],
      "source": [
        "#Write the function of ordinal logistic regression algorithms \n",
        "def ordinal_logit_reg(x_train, y_train, x_test, C, penalty, solver):\n",
        "    \n",
        "    \n",
        "    model = LogisticRegression(C=C, penalty = penalty, solver = solver) #Create a logistic model \n",
        "    prev_prob = np.zeros(len(x_test)) #Create the array to store the predicted probabilities\n",
        "#Create the matrix to store the corresponding probability of each x_testing data point belonging into each of salary bucket \n",
        "    prob_matrix = np.zeros((len(x_test),15)) \n",
        "    \n",
        "    #standardize the data \n",
        "    scaler = StandardScaler() \n",
        "    x_train = scaler.fit_transform(x_train) #Standardize the x training data \n",
        "    x_test = scaler.transform(x_test) #Standardize the x test data \n",
        "\n",
        "# Since Q25_Encoded has 15 classess, for multiple-classes logistic regression, we only need to do 14 times of for loops\n",
        "# to get the probability of the data point falling in each salary bucket \n",
        "# Note: (For the 15th one, just using 1 -  previous 14 probabilities to get, no need of for loop for 15th one).\n",
        "    for num in range(14):\n",
        "# to make each class of Q25_Encoded as binary variable, for the multiple-class logistic regression, we will do the \n",
        "# binary classfication multiple times (15 times). \n",
        "        bi = np.vectorize(lambda x: 0 if x <= num else 1) \n",
        "        y_train_bi = bi(y_train) \n",
        "        \n",
        "        \n",
        "        model.fit(x_train, y_train_bi) #Fit the logistic regression for x_train and y_train_bi (Vectorize y_train as binary variable)\n",
        "       \n",
        "        \n",
        "        bi_prob = model.predict_proba(x_test)[:, 0] #predict the the probability of test data and get the probabiltiy of y = 0\n",
        "        \n",
        "#Write a function to get rid of negative probabilities (negative probabilities make no sense)     \n",
        "        adjust_negative_to_0 = np.vectorize(lambda x: 0 if x <0 else x) \n",
        "    \n",
        "#Probability of (Class 1 to Classi) - Probability (Class 1 to Class i-1) = Probability of Class i \n",
        "        class_i_prob = adjust_negative_to_0(bi_prob - prev_prob) \n",
        "        prob_matrix[:,num] = class_i_prob\n",
        "        \n",
        "#For probability of belonging to 15th class, use 1 - probability of (previous 14 classes)        \n",
        "        if num == 13: \n",
        "            prob_matrix[: , num+1] = 1 - bi_prob\n",
        "\n",
        "#Set bi_prob as prev_prob to facilitate the following loop\n",
        "        prev_prob = bi_prob \n",
        "\n",
        "#select the maxmized probability which is also the prediction (E.g. data point belongs to which salary bucket) for each data point\n",
        "        predictions = np.argmax(prob_matrix, axis =1)\n",
        "        \n",
        "    \n",
        "    return predictions\n",
        "    "
      ]
    },
    {
      "cell_type": "code",
      "execution_count": null,
      "id": "951c2263",
      "metadata": {
        "colab": {
          "base_uri": "https://localhost:8080/"
        },
        "id": "951c2263",
        "outputId": "21abc89c-d491-4196-9867-73338d67bc56"
      },
      "outputs": [
        {
          "output_type": "stream",
          "name": "stdout",
          "text": [
            "I have applied scaling on the training data and testing data. From my own research, feature scaling is preferred but not required for the ordinal logistic regression.\n",
            "\n",
            "Even though it is not required, the scaling could make the convergence of the technique used for optimization more faster.\n",
            "\n",
            "Thus, to improve its convergence velocity,I still apply the feature scaling on data, which is more helpful for me to implement the model on bunch of data.\n"
          ]
        }
      ],
      "source": [
        "#The reason of standardizing the data\n",
        "print(\"I have applied scaling on the training data and testing data. From my own research, feature scaling is preferred but not required for the ordinal logistic regression.\\n\")\n",
        "print(\"Even though it is not required, the scaling could make the convergence of the technique used for optimization more faster.\\n\")\n",
        "print(\"Thus, to improve its convergence velocity,I still apply the feature scaling on data, which is more helpful for me to implement the model on bunch of data.\")"
      ]
    },
    {
      "cell_type": "code",
      "execution_count": null,
      "id": "7e16fdad",
      "metadata": {
        "id": "7e16fdad"
      },
      "outputs": [],
      "source": [
        "# Write the function of conducting 10 - fold cross validation on the training data \n",
        "def ten_fold_cv (x_train, y_train, C, penalty, solver , n_splits = 10):\n",
        "    kfold = KFold (n_splits = 10) #Get 10 splits \n",
        "    kfold.get_n_splits(x_train) #split the x training data into 10 partitions \n",
        "\n",
        "    accuracy = np.zeros (10) #Create an array to store the accuracies of 10 models \n",
        "    np_idx =0 #Create an index helping to store ACC into the previously created array \n",
        "    \n",
        "    for train_idx, val_idx in kfold.split(x_train):\n",
        "        #Split whole training data into the training one and the validation one \n",
        "        x_train_cv, x_val_cv = x_train.values[train_idx], x_train.values[val_idx] \n",
        "        y_train_cv, y_val_cv = y_train.values[train_idx], y_train.values[val_idx] \n",
        " \n",
        "        #Run the ordinal logistic regression on the x_validation data set to get the predictions \n",
        "        pred = ordinal_logit_reg(x_train_cv, y_train_cv, x_val_cv, C = C, penalty = penalty, solver = solver)\n",
        "        \n",
        "        accuracyscore = accuracy_score(y_val_cv, pred) #Calculate accuracy score for each model \n",
        "        \n",
        "        accuracy[np_idx] = accuracyscore # Store ACC into the previoously created array \n",
        "        np_idx = np_idx +1\n",
        "        \n",
        "    return accuracy\n",
        "\n",
        "        \n",
        "        "
      ]
    },
    {
      "cell_type": "code",
      "execution_count": null,
      "id": "05d6c4e6",
      "metadata": {
        "colab": {
          "base_uri": "https://localhost:8080/"
        },
        "id": "05d6c4e6",
        "outputId": "3384bcd3-ac75-4708-9fba-fd5b83a72900"
      },
      "outputs": [
        {
          "output_type": "stream",
          "name": "stdout",
          "text": [
            "In here, I choose the hyperparameter C (inverse of regularization strength) with different values to perform analysis and find the optimal model.\n"
          ]
        }
      ],
      "source": [
        "#Treating each value of hyperparameters as a new model, find the optimal model with that optimal hypeparameter \n",
        "print(\"In here, I choose the hyperparameter C (inverse of regularization strength) with different values to perform analysis and find the optimal model.\")"
      ]
    },
    {
      "cell_type": "code",
      "execution_count": null,
      "id": "24c8483a",
      "metadata": {
        "colab": {
          "base_uri": "https://localhost:8080/"
        },
        "id": "24c8483a",
        "outputId": "4d343a09-28eb-4123-fdd8-dee57ad15387"
      },
      "outputs": [
        {
          "output_type": "stream",
          "name": "stdout",
          "text": [
            "More specifically, given the solver = 'liblinear' and penalty = 'l1',\n",
            "I perform the total of 9 models on the training data (here refers to x_train) using 10-fold cross-validation with different values of C in [0.001, 0.01, 0.05, 0.1, 0.5, 1, 5, 10, 100] repsectively.\n",
            "\n",
            "I try to find the optimal model with otpimal value of hyperparameter C and also the pattern/trend of model accuracy with the increase size of C.\n"
          ]
        }
      ],
      "source": [
        "print(\"More specifically, given the solver = 'liblinear' and penalty = 'l1',\" )\n",
        "print(\"I perform the total of 9 models on the training data (here refers to x_train) using 10-fold cross-validation with different values of C in [0.001, 0.01, 0.05, 0.1, 0.5, 1, 5, 10, 100] repsectively.\\n\")\n",
        "print(\"I try to find the optimal model with otpimal value of hyperparameter C and also the pattern/trend of model accuracy with the increase size of C.\")"
      ]
    },
    {
      "cell_type": "code",
      "execution_count": null,
      "id": "3a5b92b1",
      "metadata": {
        "id": "3a5b92b1"
      },
      "outputs": [],
      "source": [
        "# Compare the accuracy of models with different C (Inverse of regularization strength) based on the validation performance\n",
        "# I have commented all codes below following the assignment instructions since it takes long time to run \n",
        "# and I have also hard code the results below for each model (model1 - model9)\n",
        "\n",
        "#accuracy1 = ten_fold_cv(x_train, y_train, C=0.001, penalty='l1', solver = \"liblinear\")\n",
        "#accuracy2 = ten_fold_cv(x_train, y_train, C=0.01, penalty = 'l1', solver = 'liblinear')\n",
        "#accuracy3 = ten_fold_cv(x_train, y_train, C=0.05, penalty = 'l1', solver = 'liblinear')\n",
        "#accuracy4 = ten_fold_cv(x_train, y_train, C=0.1, penalty='l1', solver = \"liblinear\")\n",
        "#accuracy5 = ten_fold_cv(x_train, y_train, C=0.5, penalty = 'l1', solver = 'liblinear')\n",
        "#accuracy6 = ten_fold_cv(x_train, y_train, C=1, penalty = 'l1', solver = 'liblinear')\n",
        "#accuracy7 = ten_fold_cv(x_train, y_train, C=5, penalty='l1', solver = \"liblinear\")\n",
        "#accuracy8 = ten_fold_cv(x_train, y_train, C=10, penalty = 'l1', solver = 'liblinear')\n",
        "#accuracy9 = ten_fold_cv(x_train, y_train, C=100, penalty = 'l1', solver = 'liblinear')"
      ]
    },
    {
      "cell_type": "code",
      "execution_count": null,
      "id": "82f60ac4",
      "metadata": {
        "id": "82f60ac4"
      },
      "outputs": [],
      "source": [
        "# Model results based on validation performance \n",
        "#print(\"For the model1 with C = 0.001, the accuracy1 is {0}.\\n The mean of accuracy1 is {1:.4f} and the variance of accuracy1 is {2:.4f}.\\n\".format(accuracy1, accuracy1.mean(),accuracy1.var()))\n",
        "#print(\"For the model2 with C = 0.01, the accuracy2 is {0}.\\n The mean of accuracy2 is {1:.4f} and the variance of accuracy2 is {2:.4f}.\\n\".format(accuracy2, accuracy2.mean(),accuracy2.var()))\n",
        "#print(\"For the model3 with C = 0.05, the accuracy3 is {0}.\\n The mean of accuracy3 is {1:.4f} and the variance of accuracy3 is {2:.4f}.\\n\".format(accuracy3, accuracy3.mean(),accuracy3.var()))\n",
        "#print(\"For the model4 with C = 0.1, the accuracy4 is {0}.\\n The mean of accuracy4 is {1:.4f} and the variance of accuracy4 is {2:.4f}.\\n\".format(accuracy4, accuracy4.mean(),accuracy4.var()))\n",
        "#print(\"For the model5 with C = 0.5, the accuracy5 is {0}.\\n The mean of accuracy5 is {1:.4f} and the variance of accuracy5 is {2:.4f}.\\n\".format(accuracy5, accuracy5.mean(),accuracy5.var()))\n",
        "#print(\"For the model6 with C = 1, the accuracy6 is {0}.\\n The mean of accuracy6 is {1:.4f} and the variance of accuracy6 is {2:.4f}.\\n\".format(accuracy6, accuracy6.mean(),accuracy6.var()))\n",
        "#print(\"For the model7 with C = 5, the accuracy7 is {0}.\\n The mean of accuracy7 is {1:.4f} and the variance of accuracy7 is {2:.4f}.\\n\".format(accuracy7, accuracy7.mean(),accuracy7.var()))\n",
        "#print(\"For the model8 with C = 10, the accuracy8 is {0}.\\n The mean of accuracy8 is {1:.4f} and the variance of accuracy8 is {2:.4f}.\\n\".format(accuracy8, accuracy8.mean(),accuracy8.var()))\n",
        "#print(\"For the model9 with C = 100, the accuracy9 is {0}.\\n The mean of accuracy9 is {1:.4f} and the variance of accuracy9 is {2:.4f}.\\n\".format(accuracy9, accuracy9.mean(),accuracy9.var()))\n",
        "\n"
      ]
    },
    {
      "cell_type": "code",
      "execution_count": null,
      "id": "b1f90be7",
      "metadata": {
        "colab": {
          "base_uri": "https://localhost:8080/"
        },
        "id": "b1f90be7",
        "outputId": "5dae6324-b07c-4efd-d978-1bddd877afcb"
      },
      "outputs": [
        {
          "output_type": "stream",
          "name": "stdout",
          "text": [
            "For the model1 with C = 0.001, the accuracy1 is [0.44990724 0.45732839 0.46011132 0.48189415 0.44103993 0.46425255 0.45868152 0.45311049 0.45682451 0.45125348].\n",
            "The mean of accuracy1 is 0.4574 and the variance of accuracy1 is 0.0001.\n",
            "\n",
            "For the model2 with C = 0.01, the accuracy2 is [0.46567718 0.4703154  0.46846011 0.49953575 0.45682451 0.4735376 0.47818013 0.46703807 0.46332405 0.47075209].\n",
            "The mean of accuracy2 is 0.4714 and the variance of accuracy2 is 0.0001.\n",
            "\n",
            "For the model3 with C = 0.05, the accuracy3 is [0.46753247 0.47309833 0.47680891 0.49767874 0.45311049 0.47539461 0.47725162 0.46982358 0.47725162 0.47725162].\n",
            "The mean of accuracy3 is 0.4745 and the variance of accuracy3 is 0.0001.\n",
            "\n",
            "For the model4 with C = 0.1, the accuracy4 is [0.46753247 0.47124304 0.48144712 0.49860724 0.4549675 0.4726091 0.47446611 0.46982358 0.47910864 0.4726091 ].\n",
            "The mean of accuracy4 is 0.4742 and the variance of accuracy4 is 0.0001.\n",
            "\n",
            "For the model5 with C = 0.5, the accuracy5 is [0.46846011 0.47217069 0.48144712 0.49860724 0.45589601 0.4735376 0.47632312 0.46796657 0.47725162 0.47075209].\n",
            "The mean of accuracy5 is 0.4742 and the variance of accuracy5 is 0.0001.\n",
            "\n",
            "For the model6 with C = 1, the accuracy6 is [0.46846011 0.47309833 0.48051948 0.49767874 0.45589601 0.4735376 0.47446611 0.46796657 0.47725162 0.47168059].\n",
            "The mean of accuracy6 is 0.4741 and the variance of accuracy6 is 0.0001.\n",
            "\n",
            "For the model7 with C = 5, the accuracy7 is [0.47124304 0.47309833 0.47866419 0.49675023 0.45589601 0.4735376 0.4735376  0.46889508 0.47725162 0.47075209].\n",
            "The mean of accuracy7 is 0.4740 and the variance of accuracy7 is 0.0001.\n",
            "\n",
            "For the model8 with C = 10, the accuracy8 is [0.4703154 0.47309833 0.47866419 0.49675023 0.45589601 0.4735376 0.4735376  0.46889508 0.47725162 0.46982358].\n",
            "The mean of accuracy8 is 0.4738 and the variance of accuracy8 is 0.0001.\n",
            "\n",
            "For the model9 with C = 100, the accuracy9 is [0.4703154  0.47309833 0.47866419 0.49675023 0.45589601 0.4735376 0.4735376  0.46889508 0.47725162 0.46889508].\n",
            "The mean of accuracy9 is 0.4736 and the variance of accuracy9 is 0.0001.\n"
          ]
        }
      ],
      "source": [
        "#Hard coded model results based on validation folds performance \n",
        "print('For the model1 with C = 0.001, the accuracy1 is [0.44990724 0.45732839 0.46011132 0.48189415 0.44103993 0.46425255 0.45868152 0.45311049 0.45682451 0.45125348].\\nThe mean of accuracy1 is 0.4574 and the variance of accuracy1 is 0.0001.\\n')\n",
        "print('For the model2 with C = 0.01, the accuracy2 is [0.46567718 0.4703154  0.46846011 0.49953575 0.45682451 0.4735376 0.47818013 0.46703807 0.46332405 0.47075209].\\nThe mean of accuracy2 is 0.4714 and the variance of accuracy2 is 0.0001.\\n')\n",
        "print('For the model3 with C = 0.05, the accuracy3 is [0.46753247 0.47309833 0.47680891 0.49767874 0.45311049 0.47539461 0.47725162 0.46982358 0.47725162 0.47725162].\\nThe mean of accuracy3 is 0.4745 and the variance of accuracy3 is 0.0001.\\n')\n",
        "print('For the model4 with C = 0.1, the accuracy4 is [0.46753247 0.47124304 0.48144712 0.49860724 0.4549675 0.4726091 0.47446611 0.46982358 0.47910864 0.4726091 ].\\nThe mean of accuracy4 is 0.4742 and the variance of accuracy4 is 0.0001.\\n')\n",
        "print('For the model5 with C = 0.5, the accuracy5 is [0.46846011 0.47217069 0.48144712 0.49860724 0.45589601 0.4735376 0.47632312 0.46796657 0.47725162 0.47075209].\\nThe mean of accuracy5 is 0.4742 and the variance of accuracy5 is 0.0001.\\n')\n",
        "print('For the model6 with C = 1, the accuracy6 is [0.46846011 0.47309833 0.48051948 0.49767874 0.45589601 0.4735376 0.47446611 0.46796657 0.47725162 0.47168059].\\nThe mean of accuracy6 is 0.4741 and the variance of accuracy6 is 0.0001.\\n')\n",
        "print('For the model7 with C = 5, the accuracy7 is [0.47124304 0.47309833 0.47866419 0.49675023 0.45589601 0.4735376 0.4735376  0.46889508 0.47725162 0.47075209].\\nThe mean of accuracy7 is 0.4740 and the variance of accuracy7 is 0.0001.\\n')\n",
        "print('For the model8 with C = 10, the accuracy8 is [0.4703154 0.47309833 0.47866419 0.49675023 0.45589601 0.4735376 0.4735376  0.46889508 0.47725162 0.46982358].\\nThe mean of accuracy8 is 0.4738 and the variance of accuracy8 is 0.0001.\\n')\n",
        "print('For the model9 with C = 100, the accuracy9 is [0.4703154  0.47309833 0.47866419 0.49675023 0.45589601 0.4735376 0.4735376  0.46889508 0.47725162 0.46889508].\\nThe mean of accuracy9 is 0.4736 and the variance of accuracy9 is 0.0001.')\n",
        "\n"
      ]
    },
    {
      "cell_type": "code",
      "execution_count": null,
      "id": "58e813ca",
      "metadata": {
        "colab": {
          "base_uri": "https://localhost:8080/"
        },
        "id": "58e813ca",
        "outputId": "1687cbe1-7687-4bb8-dfa7-6b34180c6063"
      },
      "outputs": [
        {
          "output_type": "stream",
          "name": "stdout",
          "text": [
            "As seen in above models, the model accuracy across the fold has a small difference but this difference is acceptable.\n",
            "\n",
            "For each model built, the average of accuracy and the variance of accuracy are shown in the above.\n",
            "\n",
            "Overall, the average of accuracy for folds is approximately 0.47,the variance of accuracy for folds is 0.0001.\n"
          ]
        }
      ],
      "source": [
        "print(\"As seen in above models, the model accuracy across the fold has a small difference but this difference is acceptable.\\n\")\n",
        "print(\"For each model built, the average of accuracy and the variance of accuracy are shown in the above.\\n\")\n",
        "print(\"Overall, the average of accuracy for folds is approximately 0.47,the variance of accuracy for folds is 0.0001.\")"
      ]
    },
    {
      "cell_type": "code",
      "execution_count": null,
      "id": "485d48c1",
      "metadata": {
        "colab": {
          "base_uri": "https://localhost:8080/"
        },
        "id": "485d48c1",
        "outputId": "541dfa38-9549-4c0b-92cb-ced2e2264f20"
      },
      "outputs": [
        {
          "output_type": "stream",
          "name": "stdout",
          "text": [
            "As seen the above results based on validation performance, the optimal C is C = 0.05. The model with solver = 'liblinear', penalty = 'l1', C = '0.05' performs best.\n",
            "\n",
            "This optimal model is the model3, which has the mean of accuracy = 0.4745, the variance of accuracy = 0.0001\n"
          ]
        }
      ],
      "source": [
        "print(\"As seen the above results based on validation performance, the optimal C is C = 0.05. The model with solver = 'liblinear', penalty = 'l1', C = '0.05' performs best.\\n\")\n",
        "print (\"This optimal model is the model3, which has the mean of accuracy = 0.4745, the variance of accuracy = 0.0001\")\n"
      ]
    },
    {
      "cell_type": "code",
      "execution_count": null,
      "id": "08e633da",
      "metadata": {
        "colab": {
          "base_uri": "https://localhost:8080/"
        },
        "id": "08e633da",
        "outputId": "12eb09bf-9762-453d-c55f-355472a0c279"
      },
      "outputs": [
        {
          "output_type": "stream",
          "name": "stdout",
          "text": [
            "Above optimal model selected is based on the validation performance.\n",
            "\n",
            "In the following, I am going to double check whether above model is exactly the optimal model and explain why above model is the optimal model from the bias-variance trade-off perspective.\n",
            "\n",
            "To study this from the bias-variance trade-off perspective, besides the previous validation folds performance gained, I will also perform the model and obtain the model accuracy based on training folds performance.\n",
            "\n",
            "Then I will compare the model accuracy between the training folds performance and validation folds performance to do the following tasks:\n",
            "1. Illustrate the trend of model accuracy on training folds vs validation folds with the increase of C\n",
            "2. Whether the model is underfitting vs overfitting\n",
            "3. How to approach the optimal model from the bias-variance trade-off view.\n"
          ]
        }
      ],
      "source": [
        "print(\"Above optimal model selected is based on the validation performance.\\n\")\n",
        "print(\"In the following, I am going to double check whether above model is exactly the optimal model and explain why above model is the optimal model from the bias-variance trade-off perspective.\\n\")\n",
        "print(\"To study this from the bias-variance trade-off perspective, besides the previous validation folds performance gained, I will also perform the model and obtain the model accuracy based on training folds performance.\\n\")\n",
        "print(\"Then I will compare the model accuracy between the training folds performance and validation folds performance to do the following tasks:\")\n",
        "print(\"1. Illustrate the trend of model accuracy on training folds vs validation folds with the increase of C\")\n",
        "print(\"2. Whether the model is underfitting vs overfitting\")\n",
        "print(\"3. How to approach the optimal model from the bias-variance trade-off view.\")\n"
      ]
    },
    {
      "cell_type": "code",
      "execution_count": null,
      "id": "f9fe3a0f",
      "metadata": {
        "colab": {
          "base_uri": "https://localhost:8080/"
        },
        "id": "f9fe3a0f",
        "outputId": "e57a5d37-19da-40df-dc16-0e4dfd82a57d"
      },
      "outputs": [
        {
          "output_type": "stream",
          "name": "stdout",
          "text": [
            "Below is the function of perform the ordinal logistic algorithm and obtain the model accuracy based on the training folds performance.\n"
          ]
        }
      ],
      "source": [
        "print(\"Below is the function of perform the ordinal logistic algorithm and obtain the model accuracy based on the training folds performance.\")"
      ]
    },
    {
      "cell_type": "code",
      "execution_count": null,
      "id": "ccbda992",
      "metadata": {
        "id": "ccbda992"
      },
      "outputs": [],
      "source": [
        "# Write the function of conducting 10 - fold cross validation on the training data based on the training folds performance\n",
        "def cv_on_train (x_train, y_train, C, penalty, solver , n_splits = 10):\n",
        "    kfold = KFold (n_splits = 10) #Get 10 splits \n",
        "    kfold.get_n_splits(x_train) #split the x training data into 10 partitions \n",
        "\n",
        "    accuracy = np.zeros (10) #Create an array to store the accuracies of 10 models \n",
        "    np_idx =0 #Create an index helping to store ACC into the previously created array \n",
        "    \n",
        "    for train_idx, val_idx in kfold.split(x_train):\n",
        "        #Split whole training data into the training folds and the validation folds\n",
        "        x_train_cv, x_val_cv = x_train.values[train_idx], x_train.values[val_idx] \n",
        "        y_train_cv, y_val_cv = y_train.values[train_idx], y_train.values[val_idx] \n",
        " \n",
        "        #Fit ordinal logistic regression on the training fold and then run the model on training folds again to get the predictions \n",
        "        pred = ordinal_logit_reg(x_train_cv, y_train_cv, x_train_cv, C = C, penalty = penalty, solver = solver)\n",
        "        \n",
        "        #Calculate the accuracy score based on predictions (from training folds) and the actual y training folds values\n",
        "        accuracyscore = accuracy_score(y_train_cv, pred) \n",
        "        accuracy[np_idx] = accuracyscore # Store ACC into the previously created array \n",
        "        np_idx = np_idx +1\n",
        "        \n",
        "    return accuracy"
      ]
    },
    {
      "cell_type": "code",
      "execution_count": null,
      "id": "e9648531",
      "metadata": {
        "id": "e9648531"
      },
      "outputs": [],
      "source": [
        "# Compare the accuracy of models with different C (Inverse of regularization strength) based on training folds performance\n",
        "# I have commented all codes below following the assignment instructions since it takes long time to run \n",
        "# and I have also hard code the results below for each model (model1_train - model9_train)\n",
        "#accuracy1_train = cv_on_train(x_train, y_train, C=0.001, penalty='l1', solver = \"liblinear\")\n",
        "#accuracy2_train = cv_on_train(x_train, y_train, C=0.01, penalty = 'l1', solver = 'liblinear')\n",
        "#accuracy3_train = cv_on_train(x_train, y_train, C=0.05, penalty = 'l1', solver = 'liblinear')\n",
        "#accuracy4_train = cv_on_train(x_train, y_train, C=0.1, penalty='l1', solver = \"liblinear\")\n",
        "#accuracy5_train = cv_on_train(x_train, y_train, C=0.5, penalty = 'l1', solver = 'liblinear')\n",
        "#accuracy6_train = cv_on_train(x_train, y_train, C=1, penalty = 'l1', solver = 'liblinear')\n",
        "#accuracy7_train = cv_on_train(x_train, y_train, C=5, penalty='l1', solver = \"liblinear\")\n",
        "#accuracy8_train = cv_on_train(x_train, y_train, C=10, penalty = 'l1', solver = 'liblinear')\n",
        "#accuracy9_train = cv_on_train(x_train, y_train, C=100, penalty = 'l1', solver = 'liblinear')"
      ]
    },
    {
      "cell_type": "code",
      "execution_count": null,
      "id": "fdab77c5",
      "metadata": {
        "id": "fdab77c5"
      },
      "outputs": [],
      "source": [
        "# Model results based on training folds performance \n",
        "#print(\"For the model1_train with C = 0.001, the accuracy1_train is {0}.\\n The mean of accuracy1_train is {1:.4f} and the variance of accuracy1_train is {2:.4f}.\\n\".format(accuracy1_train, accuracy1_train.mean(),accuracy1_train.var()))\n",
        "#print(\"For the model2_train with C = 0.01, the accuracy2_train is {0}.\\n The mean of accuracy2_train is {1:.4f} and the variance of accuracy2_train is {2:.4f}.\\n\".format(accuracy2_train, accuracy2_train.mean(),accuracy2_train.var()))\n",
        "#print(\"For the model3_train with C = 0.05, the accuracy3_train is {0}.\\n The mean of accuracy3_train is {1:.4f} and the variance of accuracy3_train is {2:.4f}.\\n\".format(accuracy3_train, accuracy3_train.mean(),accuracy3_train.var()))\n",
        "#print(\"For the model4_train with C = 0.1, the accuracy4_train is {0}.\\n The mean of accuracy4_train is {1:.4f} and the variance of accuracy4_train is {2:.4f}.\\n\".format(accuracy4_train, accuracy4_train.mean(),accuracy4_train.var()))\n",
        "#print(\"For the model5_train with C = 0.5, the accuracy5_train is {0}.\\n The mean of accuracy5_train is {1:.4f} and the variance of accuracy5_train is {2:.4f}.\\n\".format(accuracy5_train, accuracy5_train.mean(),accuracy5_train.var()))\n",
        "#print(\"For the model6_train with C = 1, the accuracy6_train is {0}.\\n The mean of accuracy6_train is {1:.4f} and the variance of accuracy6_train is {2:.4f}.\\n\".format(accuracy6_train, accuracy6_train.mean(),accuracy6_train.var()))\n",
        "#print(\"For the model7_train with C = 5, the accuracy7_train is {0}.\\n The mean of accuracy7_train is {1:.4f} and the variance of accuracy7_train is {2:.4f}.\\n\".format(accuracy7_train, accuracy7_train.mean(),accuracy7_train.var()))\n",
        "#print(\"For the model8_train with C = 10, the accuracy8_train is {0}.\\n The mean of accuracy8_train is {1:.4f} and the variance of accuracy8_train is {2:.4f}.\\n\".format(accuracy8_train, accuracy8_train.mean(),accuracy8_train.var()))\n",
        "#print(\"For the model9_train with C = 100, the accuracy9_train is {0}.\\n The mean of accuracy9_train is {1:.4f} and the variance of accuracy9_train is {2:.4f}.\\n\".format(accuracy9_train, accuracy9_train.mean(),accuracy9_train.var()))\n",
        "\n"
      ]
    },
    {
      "cell_type": "code",
      "execution_count": null,
      "id": "c8698c0e",
      "metadata": {
        "colab": {
          "base_uri": "https://localhost:8080/"
        },
        "id": "c8698c0e",
        "outputId": "e00b5a00-7c2a-4b8b-a3a9-9483f7cfd79f"
      },
      "outputs": [
        {
          "output_type": "stream",
          "name": "stdout",
          "text": [
            "For the model1_train with C = 0.001, the accuracy1_train is [0.45827746 0.45745229 0.45714286 0.4547236 0.45926155 0.45668317 0.45730198 0.45792079 0.45750825 0.45812706].\n",
            "The mean of accuracy1_train is 0.4574 and the variance of accuracy1_train is 0.0000.\n",
            "\n",
            "For the model2_train with C = 0.01, the accuracy2_train is [0.47374936 0.4725116  0.47405879 0.47101898 0.47442244 0.47349422 0.47143152 0.4740099  0.47328795 0.47308168].\n",
            "The mean of accuracy2_train is 0.4731 and the variance of accuracy2_train is 0.0000.\n",
            "\n",
            "For the model3_train with C = 0.05, the accuracy3_train is [0.47952553 0.47828778 0.47684373 0.47627888 0.48040429 0.47803218 0.47731023 0.47803218 0.4772071  0.47803218].\n",
            "The mean of accuracy3_train is 0.4780 and the variance of accuracy3_train is 0.0000.\n",
            "\n",
            "For the model4_train with C = 0.1, the accuracy4_train is [0.47983497 0.47839092 0.4776689  0.47700083 0.48081683 0.47834158 0.47782591 0.47937294 0.47658828 0.47813531].\n",
            "The mean of accuracy4_train is 0.4784 and the variance of accuracy4_train is 0.0000.\n",
            "\n",
            "For the model5_train with C = 0.5, the accuracy5_train is [0.47921609 0.47962867 0.4776689  0.4772071  0.48112624 0.48019802 0.47865099 0.47916667 0.47803218 0.47875413].\n",
            "The mean of accuracy5_train is 0.4790 and the variance of accuracy5_train is 0.0000.\n",
            "\n",
            "For the model6_train with C = 1, the accuracy6_train is [0.47890665 0.47952553 0.47746261 0.47731023 0.4810231  0.48030116 0.47865099 0.47957921 0.47803218 0.47834158].\n",
            "The mean of accuracy6_train is 0.4789 and the variance of accuracy6_train is 0.0000.\n",
            "\n",
            "For the model7_train with C = 5, the accuracy7_train is [0.47880351 0.47942238 0.47725632 0.4772071  0.48081683 0.48030116 0.47875413 0.47968234 0.47782591 0.47844472].\n",
            "The mean of accuracy7_train is 0.4788 and the variance of accuracy7_train is 0.0000.\n",
            "\n",
            "For the model8_train with C = 10, the accuracy8_train is [0.47880351 0.47962867 0.47725632 0.47700083 0.4807137  0.48030116 0.47875413 0.47968234 0.47782591 0.47844472].\n",
            "The mean of accuracy8_train is 0.4789 and the variance of accuracy8_train is 0.0000.\n",
            "\n",
            "For the model9_train with C = 100, the accuracy9_train is [0.47880351 0.47962867 0.47725632 0.47710396 0.4807137  0.48040429 0.47875413 0.47968234 0.47782591 0.47854785].\n",
            "The mean of accuracy9_train is 0.4789 and the variance of accuracy9_train is 0.0000.\n"
          ]
        }
      ],
      "source": [
        "#hard coded model results based on training folds performance \n",
        "print('For the model1_train with C = 0.001, the accuracy1_train is [0.45827746 0.45745229 0.45714286 0.4547236 0.45926155 0.45668317 0.45730198 0.45792079 0.45750825 0.45812706].\\nThe mean of accuracy1_train is 0.4574 and the variance of accuracy1_train is 0.0000.\\n')\n",
        "print('For the model2_train with C = 0.01, the accuracy2_train is [0.47374936 0.4725116  0.47405879 0.47101898 0.47442244 0.47349422 0.47143152 0.4740099  0.47328795 0.47308168].\\nThe mean of accuracy2_train is 0.4731 and the variance of accuracy2_train is 0.0000.\\n')\n",
        "print('For the model3_train with C = 0.05, the accuracy3_train is [0.47952553 0.47828778 0.47684373 0.47627888 0.48040429 0.47803218 0.47731023 0.47803218 0.4772071  0.47803218].\\nThe mean of accuracy3_train is 0.4780 and the variance of accuracy3_train is 0.0000.\\n')\n",
        "print('For the model4_train with C = 0.1, the accuracy4_train is [0.47983497 0.47839092 0.4776689  0.47700083 0.48081683 0.47834158 0.47782591 0.47937294 0.47658828 0.47813531].\\nThe mean of accuracy4_train is 0.4784 and the variance of accuracy4_train is 0.0000.\\n')\n",
        "print('For the model5_train with C = 0.5, the accuracy5_train is [0.47921609 0.47962867 0.4776689  0.4772071  0.48112624 0.48019802 0.47865099 0.47916667 0.47803218 0.47875413].\\nThe mean of accuracy5_train is 0.4790 and the variance of accuracy5_train is 0.0000.\\n')\n",
        "print('For the model6_train with C = 1, the accuracy6_train is [0.47890665 0.47952553 0.47746261 0.47731023 0.4810231  0.48030116 0.47865099 0.47957921 0.47803218 0.47834158].\\nThe mean of accuracy6_train is 0.4789 and the variance of accuracy6_train is 0.0000.\\n')\n",
        "print('For the model7_train with C = 5, the accuracy7_train is [0.47880351 0.47942238 0.47725632 0.4772071  0.48081683 0.48030116 0.47875413 0.47968234 0.47782591 0.47844472].\\nThe mean of accuracy7_train is 0.4788 and the variance of accuracy7_train is 0.0000.\\n')\n",
        "print('For the model8_train with C = 10, the accuracy8_train is [0.47880351 0.47962867 0.47725632 0.47700083 0.4807137  0.48030116 0.47875413 0.47968234 0.47782591 0.47844472].\\nThe mean of accuracy8_train is 0.4789 and the variance of accuracy8_train is 0.0000.\\n')\n",
        "print('For the model9_train with C = 100, the accuracy9_train is [0.47880351 0.47962867 0.47725632 0.47710396 0.4807137  0.48040429 0.47875413 0.47968234 0.47782591 0.47854785].\\nThe mean of accuracy9_train is 0.4789 and the variance of accuracy9_train is 0.0000.')\n",
        "\n",
        "\n",
        "\n",
        "\n",
        "\n",
        "\n"
      ]
    },
    {
      "cell_type": "code",
      "execution_count": null,
      "id": "4162feca",
      "metadata": {
        "colab": {
          "base_uri": "https://localhost:8080/"
        },
        "id": "4162feca",
        "outputId": "319729a3-6173-4c27-f4b4-99307e631b7c"
      },
      "outputs": [
        {
          "output_type": "stream",
          "name": "stdout",
          "text": [
            "Below is the figure of model accuracy with different hyperparameter C on training folds and validation folds:\n"
          ]
        }
      ],
      "source": [
        "print(\"Below is the figure of model accuracy with different hyperparameter C on training folds and validation folds:\")"
      ]
    },
    {
      "cell_type": "code",
      "execution_count": null,
      "id": "7a69c026",
      "metadata": {
        "colab": {
          "base_uri": "https://localhost:8080/",
          "height": 404
        },
        "id": "7a69c026",
        "outputId": "d17e17ba-9f52-476c-bc96-e49ad14a1548"
      },
      "outputs": [
        {
          "output_type": "display_data",
          "data": {
            "image/png": "[encoded data removed]",
            "text/plain": [
              "<Figure size 1080x432 with 1 Axes>"
            ]
          },
          "metadata": {
            "needs_background": "light"
          }
        }
      ],
      "source": [
        "#Plot Figure3: Model Accuracy With Different Hyperparameter C on training folds vs validation folds \n",
        "fig, ax = plt.subplots(figsize = (15,6))\n",
        "C_list = [0.001, 0.01, 0.05, 0.1, 0.5, 1, 5, 10, 100]\n",
        "#accuracy_val_list = [accuracy1.mean(),accuracy2.mean(),accuracy3.mean(),accuracy4.mean(),accuracy5.mean(),accuracy6.mean(),accuracy7.mean(),accuracy8.mean(),accuracy9.mean()]\n",
        "accuracy_val_list = [0.4574403577587024,\n",
        " 0.4713644890724079,\n",
        " 0.47452020058466526,\n",
        " 0.4742413906560345,\n",
        " 0.4742412183916362,\n",
        " 0.47405551737028057,\n",
        " 0.4739625807274036,\n",
        " 0.47377696583824724,\n",
        " 0.47359135094909066]\n",
        "#accuracy_train_list = [accuracy1_train.mean(),accuracy2_train.mean(),accuracy3_train.mean(),accuracy4_train.mean(),accuracy5_train.mean(),accuracy6_train.mean(),accuracy7_train.mean(),accuracy8_train.mean(),accuracy9_train.mean()]\n",
        "accuracy_train_list = [0.4574399017390135,\n",
        " 0.4731066462757673,\n",
        " 0.4780057204727693,\n",
        " 0.47842859015143385,\n",
        " 0.47895458344184083,\n",
        " 0.478892694807129,\n",
        " 0.4788101833649069,\n",
        " 0.47887206880822175,\n",
        " 0.4788617531492706]\n",
        "#Formatting \n",
        "plt.plot(C_list, accuracy_val_list, label='Validation Folds')\n",
        "plt.plot(C_list, accuracy_train_list, label='Training Folds')\n",
        "plt.grid()\n",
        "plt.title(\"Figure3: Model Accuracy With Different Hyperparameter C On training vs Validation Folds\")\n",
        "plt.xscale('log')\n",
        "plt.xticks(C_list, labels=C_list)\n",
        "plt.xlabel('C (Inverse of regularization strength)')\n",
        "plt.ylabel('Accuracy')\n",
        "plt.legend()\n",
        "\n",
        "plt.show()"
      ]
    },
    {
      "cell_type": "code",
      "execution_count": null,
      "id": "69bbb2ec",
      "metadata": {
        "colab": {
          "base_uri": "https://localhost:8080/"
        },
        "id": "69bbb2ec",
        "outputId": "09c0fb93-234a-4d80-8a2a-25ad346c4623"
      },
      "outputs": [
        {
          "output_type": "stream",
          "name": "stdout",
          "text": [
            "As seen in the above Figure3:\n",
            "\n",
            "For the trend of model accuracy in training folds with the increase of C, the model accuracy shows the increasing trend initially with slower increasing rate until it gets into the stready state.\n",
            "\n",
            "For the trend of model accuracy in validation folds with the increase of C, the model accuracy shows the increasing trend with the slower increasing rate from C = 0.001 to C = 0.05, then the model accuracy starts to decrease from C =0.05 until it gets into the steady state.\n"
          ]
        }
      ],
      "source": [
        "print(\"As seen in the above Figure3:\\n\")\n",
        "print(\"For the trend of model accuracy in training folds with the increase of C, the model accuracy shows the increasing trend initially with slower increasing rate until it gets into the stready state.\\n\")\n",
        "print(\"For the trend of model accuracy in validation folds with the increase of C, the model accuracy shows the increasing trend with the slower increasing rate from C = 0.001 to C = 0.05, then the model accuracy starts to decrease from C =0.05 until it gets into the steady state.\")\n"
      ]
    },
    {
      "cell_type": "code",
      "execution_count": null,
      "id": "934316e8",
      "metadata": {
        "colab": {
          "base_uri": "https://localhost:8080/"
        },
        "id": "934316e8",
        "outputId": "3cd8dc7f-89b5-43e6-9956-b77f5c7dadf0"
      },
      "outputs": [
        {
          "output_type": "stream",
          "name": "stdout",
          "text": [
            "As seen in the above Figure3:\n",
            "\n",
            "Overall, both of model accuracies for the training folds and validation folds are relatively low, which are below 50%. This indicates that the model is underfitting. That means the model experiences the high bias and low variance.\n"
          ]
        }
      ],
      "source": [
        "print(\"As seen in the above Figure3:\\n\")\n",
        "print(\"Overall, both of model accuracies for the training folds and validation folds are relatively low, which are below 50%. This indicates that the model is underfitting. That means the model experiences the high bias and low variance.\")"
      ]
    },
    {
      "cell_type": "code",
      "execution_count": null,
      "id": "43a25f08",
      "metadata": {
        "colab": {
          "base_uri": "https://localhost:8080/"
        },
        "id": "43a25f08",
        "outputId": "cb154ec5-c4e5-4f70-b433-616339a037b0"
      },
      "outputs": [
        {
          "output_type": "stream",
          "name": "stdout",
          "text": [
            "Since the model experiences the underfitting and both of model accuracies are low, in this case, given the increasing training folds performance, we should find the optimal model by finding the highest accuracy (lowest error) for validation folds. That means at that point, the model geeneralizes optimally compared with rest ones considering the bias-variance trade-off.\n",
            "\n",
            "Seen from Figure3, when C = 0.05, it has the highest model accuracy for validation folds. Thus, this point has the best bias-variance trade-off compared with the rest ones.\n",
            "\n",
            "In conclusion, from the bias-variance trade-off perspective, by comparing the training folds performance and validation folds performance, the model with C = 0.05 has the best bias-variance trade-off and is the optimal model.\n"
          ]
        }
      ],
      "source": [
        "print(\"Since the model experiences the underfitting and both of model accuracies are low, in this case, given the increasing training folds performance, we should find the optimal model by finding the highest accuracy (lowest error) for validation folds. That means at that point, the model geeneralizes optimally compared with rest ones considering the bias-variance trade-off.\\n\")\n",
        "print(\"Seen from Figure3, when C = 0.05, it has the highest model accuracy for validation folds. Thus, this point has the best bias-variance trade-off compared with the rest ones.\\n\")\n",
        "print(\"In conclusion, from the bias-variance trade-off perspective, by comparing the training folds performance and validation folds performance, the model with C = 0.05 has the best bias-variance trade-off and is the optimal model.\")"
      ]
    },
    {
      "cell_type": "markdown",
      "id": "a8d49100",
      "metadata": {
        "id": "a8d49100"
      },
      "source": [
        "# 4. Model tuning "
      ]
    },
    {
      "cell_type": "code",
      "execution_count": null,
      "id": "2a904e8f",
      "metadata": {
        "colab": {
          "base_uri": "https://localhost:8080/"
        },
        "id": "2a904e8f",
        "outputId": "7388ee4b-58ac-4cf3-cf40-609a6326aa51"
      },
      "outputs": [
        {
          "output_type": "stream",
          "name": "stdout",
          "text": [
            "Hyperparameters in my model are solver, penalty and C (Inverse of regularization strength).\n"
          ]
        }
      ],
      "source": [
        "#Define all hyperparameters\n",
        "print (\"Hyperparameters in my model are solver, penalty and C (Inverse of regularization strength).\")"
      ]
    },
    {
      "cell_type": "code",
      "execution_count": null,
      "id": "7baa33a6",
      "metadata": {
        "colab": {
          "base_uri": "https://localhost:8080/"
        },
        "id": "7baa33a6",
        "outputId": "859b4e51-fa4f-4014-964e-418adf24aa44"
      },
      "outputs": [
        {
          "output_type": "stream",
          "name": "stdout",
          "text": [
            "From my own research, the type of penalty and the size of C affect the model accuracy more than the type of solver.\n",
            "\n",
            "Thus, I choose the penalty and C to do model tuning in the following.\n"
          ]
        }
      ],
      "source": [
        "print(\"From my own research, the type of penalty and the size of C affect the model accuracy more than the type of solver.\\n\")\n",
        "print(\"Thus, I choose the penalty and C to do model tuning in the following.\")"
      ]
    },
    {
      "cell_type": "code",
      "execution_count": null,
      "id": "edd50cd9",
      "metadata": {
        "colab": {
          "base_uri": "https://localhost:8080/"
        },
        "id": "edd50cd9",
        "outputId": "bd0516c6-bbb6-4b55-a201-b38af45b4070"
      },
      "outputs": [
        {
          "output_type": "stream",
          "name": "stdout",
          "text": [
            "{'C': 0.05, 'penalty': 'l1'}\n",
            "Best Score: 0.475(0.01)\n"
          ]
        }
      ],
      "source": [
        "# Following the assignment instruction, I have commented out cross validation code and hard code the results of optimal model parameters \n",
        "#Grid search for optimal hyperparameters \n",
        "#best_params = {}\n",
        "#best_accuracy = 0 \n",
        "#best_std = 0\n",
        "\n",
        "#for C in [0.001, 0.01, 0.05, 0.1, 0.5, 1, 5, 10, 100]:     \n",
        "#    for penalty in ['l1', 'l2']:\n",
        "#        accuracy = ten_fold_cv(x_train, y_train, C=C, penalty = penalty, solver = \"liblinear\")\n",
        "#       if np.mean(accuracy) > best_accuracy:\n",
        "#           best_params = {'C':C, 'penalty':penalty}\n",
        "#           best_accuracy = np.mean(accuracy)\n",
        "#           best_std = np.std(accuracy)\n",
        "\n",
        "\n",
        "#print (best_params)\n",
        "#print (\"Best Score: {}({})\".format(round(best_accuracy,3),round(best_std,3)))      \n",
        "\n",
        "print(\"{'C': 0.05, 'penalty': 'l1'}\")\n",
        "print('Best Score: 0.475(0.01)')"
      ]
    },
    {
      "cell_type": "code",
      "execution_count": null,
      "id": "e1a169ad",
      "metadata": {
        "colab": {
          "base_uri": "https://localhost:8080/"
        },
        "id": "e1a169ad",
        "outputId": "69182781-550e-4a30-91e4-84d3b73bc450"
      },
      "outputs": [
        {
          "output_type": "stream",
          "name": "stdout",
          "text": [
            "I conclude that the optimal model is the model with hyperparameter C = 0.05 and penalty =l1\n"
          ]
        }
      ],
      "source": [
        "print(\"I conclude that the optimal model is the model with hyperparameter C = 0.05 and penalty =l1\")"
      ]
    },
    {
      "cell_type": "code",
      "execution_count": null,
      "id": "43619401",
      "metadata": {
        "colab": {
          "base_uri": "https://localhost:8080/"
        },
        "id": "43619401",
        "outputId": "8f01b076-b6c6-4de9-9e8d-b0aa27d4efb2"
      },
      "outputs": [
        {
          "output_type": "stream",
          "name": "stdout",
          "text": [
            "For the metrics, I choose the accuracy score as the metrics to choose the optimal model. \n",
            "\n",
            "This is because that in this scienario, we focus on studying whether the model could correctly predict the salary bucket to which each data point belongs.\n",
            "\n",
            "What we care most is the correct rate of predicting each data point into the correct salary bucket (When the prediction of salary bucket on the specific data point is equal to its actual salary bucket, then we call it 'correct salary bucket').\n",
            "\n",
            "From the statistic perspective, what we care most in this muti class classfication is the true rates.\n",
            "\n",
            "By definition, the accuracy score refers to the measure of all the correctly identified cases. From statistic & mathematics perspective, the formula of accuracy is the (TP + TN) = (TP + TN + FP + FN) = (Correct predictions / total predictions). That is what we want.\n",
            " \n",
            "In this case, we do not use F1 score or recall, etc., it is because we care correctly defined cases more than incorrectly defined cases.(From my research , accuracy is used when the True positives and True negatives are more important while F1-score is used when the False negatives and False nositives are crucial)\n"
          ]
        }
      ],
      "source": [
        "#Justification of why I use accuracy as metrics \n",
        "print(\"For the metrics, I choose the accuracy score as the metrics to choose the optimal model. \\n\")\n",
        "\n",
        "print(\"This is because that in this scienario, we focus on studying whether the model could correctly predict the salary bucket to which each data point belongs.\\n\")\n",
        "print(\"What we care most is the correct rate of predicting each data point into the correct salary bucket (When the prediction of salary bucket on the specific data point is equal to its actual salary bucket, then we call it 'correct salary bucket').\\n\")\n",
        "print (\"From the statistic perspective, what we care most in this muti class classfication is the true rates.\\n\")\n",
        "print(\"By definition, the accuracy score refers to the measure of all the correctly identified cases. From statistic & mathematics perspective, the formula of accuracy is the (TP + TN) = (TP + TN + FP + FN) = (Correct predictions / total predictions). That is what we want.\\n \")\n",
        "print(\"In this case, we do not use F1 score or recall, etc., it is because we care correctly defined cases more than incorrectly defined cases.(From my research , accuracy is used when the True positives and True negatives are more important while F1-score is used when the False negatives and False nositives are crucial)\")"
      ]
    },
    {
      "cell_type": "code",
      "execution_count": null,
      "id": "f8aaa1ec",
      "metadata": {
        "id": "f8aaa1ec"
      },
      "outputs": [],
      "source": [
        "#Plot feature importance against predictions \n",
        "#Get predictions (As clarified by TA, either test data or validation data is fine, this time i choose to predict on the testing data.)\n",
        "prediction =ordinal_logit_reg(x_train, y_train, x_test, C = 0.05, solver = \"liblinear\", penalty = 'l1')\n",
        "\n"
      ]
    },
    {
      "cell_type": "code",
      "execution_count": null,
      "id": "fc54e79a",
      "metadata": {
        "id": "fc54e79a"
      },
      "outputs": [],
      "source": [
        "data = {'Predictions':list(prediction), 'Q3_USA':x_test['Q3_United States of America'], \n",
        "        'Q6': x_test['Q6'], 'Q26':x_test['Q26'], 'Q1': x_test['Q1'], 'Q15':x_test['Q15'],\n",
        "        'Q23':x_test['Q23'], 'Q22' : x_test['Q22'], 'Q30_A_Part_3': x_test['Q30_A_Part_3'],\n",
        "        'Q21':x_test['Q21'], 'Q27_A_Part_1':x_test['Q27_A_Part_1'],'Q24_Part_3':x_test['Q24_Part_3'],\n",
        "        'Q29_A_Part_1':x_test['Q29_A_Part_1'], 'Q7_Part_10': x_test['Q7_Part_10'],  'Q9_Part_9': x_test['Q9_Part_9'],\n",
        "        'Q4':x_test['Q4'],'Q17_Part_3':x_test['Q17_Part_3'], 'Q39_Part_9':x_test['Q39_Part_9'],\n",
        "         'Q24_Part_5':x_test['Q24_Part_5'], 'Q32_B_Part_1': x_test['Q32_B_Part_1'], 'Q11_A laptop':x_test['Q11_A laptop'],\n",
        "        'Q31_B_Part_3':x_test['Q31_B_Part_3'], 'Q20_Academics': x_test['Q20_Academics/Education'],\n",
        "        'Q3_India': x_test['Q3_India']}\n",
        "\n",
        "\n",
        "df4= pd.DataFrame(data)\n",
        "\n",
        "corr_rank_pred = df4.corr()['Predictions'].sort_values(ascending= False)\n",
        "\n",
        "\n"
      ]
    },
    {
      "cell_type": "code",
      "execution_count": null,
      "id": "04b01d48",
      "metadata": {
        "colab": {
          "base_uri": "https://localhost:8080/",
          "height": 369
        },
        "id": "04b01d48",
        "outputId": "86b62111-dba4-43d3-8c42-eabf9240bc31"
      },
      "outputs": [
        {
          "output_type": "display_data",
          "data": {
            "image/png": "[encoded data removed]",
            "text/plain": [
              "<Figure size 1152x360 with 1 Axes>"
            ]
          },
          "metadata": {
            "needs_background": "light"
          }
        }
      ],
      "source": [
        "#Plot correlation plot to visualize the order of feature importance against predictions \n",
        "fig,ax = plt.subplots(figsize = (16,5))\n",
        "plt.bar(corr_rank_pred.index, corr_rank_pred, label = 'Feature', color = 'tan')\n",
        "\n",
        "#Formatting \n",
        "plt.xticks(rotation = 90)\n",
        "ax.legend()\n",
        "plt.title(\"Figure 4: The correlation of predictions and Top 23 Important feautres ranked in descending order\", fontsize = 16)\n",
        "plt.grid(alpha = 0.4)\n",
        "plt.tight_layout()\n",
        "plt.show()"
      ]
    },
    {
      "cell_type": "code",
      "execution_count": null,
      "id": "eb4aaa1f",
      "metadata": {
        "colab": {
          "base_uri": "https://localhost:8080/"
        },
        "id": "eb4aaa1f",
        "outputId": "6ea2b211-0868-4588-d3c7-a79ca1d4eb85"
      },
      "outputs": [
        {
          "output_type": "stream",
          "name": "stdout",
          "text": [
            "As seen in Figure4, the most determing feature in model predictions is Q3_USA (Residence country is America).Furthermore, Q26, Q6, Q1, Q15 all play the important role in determing predictions.\n"
          ]
        }
      ],
      "source": [
        "print(\"As seen in Figure4, the most determing feature in model predictions is Q3_USA (Residence country is America).Furthermore, Q26, Q6, Q1, Q15 all play the important role in determing predictions.\")"
      ]
    },
    {
      "cell_type": "code",
      "execution_count": null,
      "id": "9d452dc1",
      "metadata": {
        "colab": {
          "base_uri": "https://localhost:8080/"
        },
        "id": "9d452dc1",
        "outputId": "36a116e3-7938-4eac-ebe4-fc0dbe4a86dc"
      },
      "outputs": [
        {
          "output_type": "stream",
          "name": "stdout",
          "text": [
            "Comparing the Figure 1 and Figure 4 these two correlation plots, we can find that both of the most determining in feature (against actual target values & against predictions) are Q3_USA.\n",
            "\n",
            "Then in both correlation plots, Q26, Q1,Q5,Q6 are highly correlated with both of actual target values and predictions. However, the importance rank of these 4 features are different in two correlation plots.\n",
            "\n",
            "There are also differences in the rank of other releatively less important features among these two correlation plots (against actual target values vs against predictions).\n"
          ]
        }
      ],
      "source": [
        "print(\"Comparing the Figure 1 and Figure 4 these two correlation plots, we can find that both of the most determining in feature (against actual target values & against predictions) are Q3_USA.\\n\")\n",
        "print(\"Then in both correlation plots, Q26, Q1,Q5,Q6 are highly correlated with both of actual target values and predictions. However, the importance rank of these 4 features are different in two correlation plots.\\n\")\n",
        "print(\"There are also differences in the rank of other releatively less important features among these two correlation plots (against actual target values vs against predictions).\")"
      ]
    },
    {
      "cell_type": "markdown",
      "id": "b8d7b5db",
      "metadata": {
        "id": "b8d7b5db"
      },
      "source": [
        "# 5. Testing & Discussion "
      ]
    },
    {
      "cell_type": "code",
      "execution_count": null,
      "id": "d65d09be",
      "metadata": {
        "id": "d65d09be"
      },
      "outputs": [],
      "source": [
        "#Use optimal model to make classifications on the test set\n",
        "y_test_pred = ordinal_logit_reg (x_train, y_train, x_test, C = 0.05, penalty = 'l1', solver = 'liblinear')\n",
        "#Use optimal model to make classifications on the training set\n",
        "y_train_pred = ordinal_logit_reg (x_train, y_train, x_train, C = 0.05, penalty = 'l1', solver = 'liblinear')\n",
        "\n",
        "#Obtain the model accuracy for the testing set and training set \n",
        "train_accuracy = accuracy_score(y_train, y_train_pred)\n",
        "test_accuracy = accuracy_score(y_test, y_test_pred)\n"
      ]
    },
    {
      "cell_type": "code",
      "execution_count": null,
      "id": "a3ccf20f",
      "metadata": {
        "colab": {
          "base_uri": "https://localhost:8080/"
        },
        "id": "a3ccf20f",
        "outputId": "5780b571-8c28-4cf4-f0e7-269cd6bcad94"
      },
      "outputs": [
        {
          "output_type": "stream",
          "name": "stdout",
          "text": [
            "The model accuracy on the training set is 0.47767567065812677 and the model accuracy on the testing set is 0.46470333477695974\n"
          ]
        }
      ],
      "source": [
        "print(\"The model accuracy on the training set is {0} and the model accuracy on the testing set is {1}\".format(train_accuracy, test_accuracy))"
      ]
    },
    {
      "cell_type": "code",
      "execution_count": null,
      "id": "cd2ec402",
      "metadata": {
        "colab": {
          "base_uri": "https://localhost:8080/"
        },
        "id": "cd2ec402",
        "outputId": "d66760ac-d3e2-410a-9ac4-3e6372b984ff"
      },
      "outputs": [
        {
          "output_type": "stream",
          "name": "stdout",
          "text": [
            "Given the low accuracies for both of training set and testing set, it indicates that the model is underfitting. It experiences high bias and low variance.\n",
            "\n",
            "To improve the model accuracy, we can take possible measure below:\n",
            "1. Increase more training data.\n",
            "2. Increase the complexity of model by increasing more parameters.\n"
          ]
        }
      ],
      "source": [
        "print(\"Given the low accuracies for both of training set and testing set, it indicates that the model is underfitting. It experiences high bias and low variance.\\n\")\n",
        "print(\"To improve the model accuracy, we can take possible measure below:\")\n",
        "print(\"1. Increase more training data.\")\n",
        "print(\"2. Increase the complexity of model by increasing more parameters.\")\n"
      ]
    },
    {
      "cell_type": "code",
      "execution_count": null,
      "id": "46e5a0a1",
      "metadata": {
        "colab": {
          "base_uri": "https://localhost:8080/"
        },
        "id": "46e5a0a1",
        "outputId": "addbb0d9-d728-46bc-d9ed-2270e058c6b8"
      },
      "outputs": [
        {
          "output_type": "stream",
          "name": "stdout",
          "text": [
            "Above measure is the general measure to handle with the underfitting. By looking into the predictions vs actual values on training vs testing set. I find more accurate reasons leading to the underfitting and put forward more pertinent&effective measures.\n"
          ]
        }
      ],
      "source": [
        "print(\"Above measure is the general measure to handle with the underfitting. By looking into the predictions vs actual values on training vs testing set. I find more accurate reasons leading to the underfitting and put forward more pertinent&effective measures.\")"
      ]
    },
    {
      "cell_type": "code",
      "execution_count": null,
      "id": "5c4a6c1d",
      "metadata": {
        "colab": {
          "base_uri": "https://localhost:8080/",
          "height": 441
        },
        "id": "5c4a6c1d",
        "outputId": "e5bec719-23b0-465c-d815-1ade3e08def0"
      },
      "outputs": [
        {
          "output_type": "display_data",
          "data": {
            "image/png": "[encoded data removed]",
            "text/plain": [
              "<Figure size 1080x432 with 2 Axes>"
            ]
          },
          "metadata": {
            "needs_background": "light"
          }
        }
      ],
      "source": [
        "#Plot the distribution of true target variable values and their predictions on both training set and testing set \n",
        "fig,(ax1, ax2) = plt.subplots(1,2, figsize = (15,6))\n",
        "\n",
        "sns.countplot(x=y_train, color = \"hotpink\", alpha = 0.6, label = \"target variable value\", ax= ax1)\n",
        "sns.countplot(x=y_train_pred, color = \"red\", alpha = 0.6, label = \"prediction value\", ax= ax1)\n",
        "sns.countplot(x=y_test, color = \"hotpink\", alpha = 0.6, label = \"target variable value\", ax= ax2)\n",
        "sns.countplot(x=y_test_pred, color = \"red\", alpha = 0.6, label = \"prediction value\", ax= ax2)\n",
        "\n",
        "#Formatting \n",
        "ax1.set_title(\"Figure 5(a): Distribution on training set\")\n",
        "ax2.set_title(\"Figure 5(b): Distribution on test set\" )\n",
        "ax1.legend()\n",
        "ax2.legend()\n",
        "\n",
        "ax1.set_xlabel(\"Salary bucket\")\n",
        "ax2.set_xlabel(\"Salary bucket\")\n",
        "\n",
        "ax1.grid()\n",
        "ax2.grid()\n",
        "\n",
        "ax1.set_xticks(np.arange(0,15))\n",
        "ax1.set_xticklabels(list(df.Q25_buckets.value_counts().index),rotation =90)\n",
        "\n",
        "ax2.set_xticks(np.arange(0,15))\n",
        "ax2.set_xticklabels(list(df.Q25_buckets.value_counts().index),rotation =90)\n",
        "    \n",
        "plt.tight_layout()\n",
        "plt.show()\n",
        "    "
      ]
    },
    {
      "cell_type": "code",
      "execution_count": null,
      "id": "d4b4c249",
      "metadata": {
        "colab": {
          "base_uri": "https://localhost:8080/"
        },
        "id": "d4b4c249",
        "outputId": "9696d9f7-916d-4b00-d8ee-0bebb7f41370"
      },
      "outputs": [
        {
          "output_type": "stream",
          "name": "stdout",
          "text": [
            "As seen in Figure 5(a), for training set, the predictions falling into the 0 - $ 9,999 this salary bucket are much more than the actual values falling into this range.\n",
            "The predictions falling into the $80,000 – $89,999 are also too much compared with actual values. However, the predictions are much less than the actual values in other salary buckets.\n",
            "\n",
            "As seen in Figure 5(b), for testing set, the predictions falling into the 0 - $ 9,999 this salary bucket are also much more than the actual values falling into this range.\n",
            "Furthermore, the predictions falling into $ 150,000 - $199,999 are much more than actual values falling in this range. However, the predictions are much less than the actual values in other salary buckets. \n"
          ]
        }
      ],
      "source": [
        "print(\"As seen in Figure 5(a), for training set, the predictions falling into the 0 - $ 9,999 this salary bucket are much more than the actual values falling into this range.\") \n",
        "print(\"The predictions falling into the $80,000 – $89,999 are also too much compared with actual values. However, the predictions are much less than the actual values in other salary buckets.\\n\")\n",
        "\n",
        "\n",
        "print(\"As seen in Figure 5(b), for testing set, the predictions falling into the 0 - $ 9,999 this salary bucket are also much more than the actual values falling into this range.\")\n",
        "print(\"Furthermore, the predictions falling into $ 150,000 - $199,999 are much more than actual values falling in this range. However, the predictions are much less than the actual values in other salary buckets. \")\n",
        "\n",
        "\n",
        "\n",
        "\n"
      ]
    },
    {
      "cell_type": "code",
      "execution_count": null,
      "id": "6e9cd78a",
      "metadata": {
        "colab": {
          "base_uri": "https://localhost:8080/"
        },
        "id": "6e9cd78a",
        "outputId": "d8133ba9-ff8d-49de-de94-79caad1b6901"
      },
      "outputs": [
        {
          "output_type": "stream",
          "name": "stdout",
          "text": [
            "Based on the model accuracies and Figure 5, the model does not have high performance and has the inconsistencies between predictions vs actual values on both training and testing set.\n",
            "\n"
          ]
        }
      ],
      "source": [
        "print(\"Based on the model accuracies and Figure 5, the model does not have high performance and has the inconsistencies between predictions vs actual values on both training and testing set.\\n\")\n"
      ]
    },
    {
      "cell_type": "code",
      "execution_count": null,
      "id": "ab53b141",
      "metadata": {
        "colab": {
          "base_uri": "https://localhost:8080/",
          "height": 441
        },
        "id": "ab53b141",
        "outputId": "3c977238-284e-434b-a433-c33e249fc389"
      },
      "outputs": [
        {
          "output_type": "display_data",
          "data": {
            "image/png": "[encoded data removed]",
            "text/plain": [
              "<Figure size 1080x432 with 1 Axes>"
            ]
          },
          "metadata": {
            "needs_background": "light"
          }
        }
      ],
      "source": [
        "#Plot the distribution of orginal sample \n",
        "fig, ax = plt.subplots(figsize = (15,6))\n",
        "sns.countplot(df.Q25_Encoded, alpha = 0.6, label = \"original sample\", ax=ax)\n",
        "\n",
        "#Formatting\n",
        "ax.set_title(\"Figure 6: Distribution of orginal sample of salary bucket\")\n",
        "ax.set_xticks(np.arange(0,15))\n",
        "ax.set_xticklabels(list(df.Q25_buckets.value_counts().index),rotation =90)\n",
        "ax.set_xlabel(\"Salary bucket\")\n",
        "ax.grid()\n",
        "\n",
        "\n",
        "plt.tight_layout()\n",
        "plt.show()"
      ]
    },
    {
      "cell_type": "code",
      "execution_count": null,
      "id": "a44a0601",
      "metadata": {
        "colab": {
          "base_uri": "https://localhost:8080/"
        },
        "id": "a44a0601",
        "outputId": "04bfa18c-aab0-47a5-8355-243f14b3e6a6"
      },
      "outputs": [
        {
          "output_type": "stream",
          "name": "stdout",
          "text": [
            "The main reason of it is the imbalances of original dataset. As seen in the Figure6, in the original sample, there are extremely many data points falling into the $0 - $9,999 this salary bucket (major class).\n",
            "\n",
            "However, there are only few data points falling in the other salary buckets, especially high salary buckets (minor class).\n",
            "\n",
            "The imbalances of data leads to the low predictive performance since the classification algorithms are designed around the assumption of an equal number of data for each class.\n",
            "\n",
            "Another reason of low accuracy is that: even though accuracy is very suitable for the context of this study, it does not deal with the imbalanced data well. There seems like a contradiction between the context of study and properties of original dataset. It is hard to make us choose the appropriate performance metrics which can meet all suitability.\n"
          ]
        }
      ],
      "source": [
        "print(\"The main reason of it is the imbalances of original dataset. As seen in the Figure6, in the original sample, there are extremely many data points falling into the $0 - $9,999 this salary bucket (major class).\\n\")\n",
        "print(\"However, there are only few data points falling in the other salary buckets, especially high salary buckets (minor class).\\n\")\n",
        "print(\"The imbalances of data leads to the low predictive performance since the classification algorithms are designed around the assumption of an equal number of data for each class.\\n\")\n",
        "print(\"Another reason of low accuracy is that: even though accuracy is very suitable for the context of this study, it does not deal with the imbalanced data well. There seems like a contradiction between the context of study and properties of original dataset. It is hard to make us choose the appropriate performance metrics which can meet all suitability.\")"
      ]
    },
    {
      "cell_type": "code",
      "execution_count": null,
      "id": "fddc9b0e",
      "metadata": {
        "colab": {
          "base_uri": "https://localhost:8080/"
        },
        "id": "fddc9b0e",
        "outputId": "614111ed-b348-49a5-b946-c520b8c7d0af"
      },
      "outputs": [
        {
          "output_type": "stream",
          "name": "stdout",
          "text": [
            "After looking into the reasons leading to underfitting, to address the problems, I may put forward below measures:\n",
            "\n",
            "1. Try F1-score instead of accuracy (even though accuracy is more suitable for context wheras F1-score deals with imbalanced data better)\n",
            "\n",
            "2. Apply BalancedBaggingClassifier.\n",
            "\n",
            "3. Oversampling. When we are using an imbalanced dataset, we can oversample the minority class using replacement until we can get a balanced dataset for both majority and minority classes.\n"
          ]
        }
      ],
      "source": [
        "print(\"After looking into the reasons leading to underfitting, to address the problems, I may put forward below measures:\\n\")\n",
        "print(\"1. Try F1-score instead of accuracy (even though accuracy is more suitable for context wheras F1-score deals with imbalanced data better)\\n\")\n",
        "print(\"2. Apply BalancedBaggingClassifier.\\n\")\n",
        "print(\"3. Oversampling. When we are using an imbalanced dataset, we can oversample the minority class using replacement until we can get a balanced dataset for both majority and minority classes.\")"
      ]
    },
    {
      "cell_type": "code",
      "execution_count": null,
      "id": "68a87d27",
      "metadata": {
        "id": "68a87d27"
      },
      "outputs": [],
      "source": [
        ""
      ]
    }
  ],
  "metadata": {
    "colab": {
      "name": "Salary Multiclassification Analysis.ipynb",
      "provenance": [],
      "collapsed_sections": [
        "9455f7bc",
        "2dae3b6a",
        "a1652ff4",
        "3eab0cc5",
        "c2070353",
        "b49739d1"
      ]
    },
    "kernelspec": {
      "display_name": "Python 3 (ipykernel)",
      "language": "python",
      "name": "python3"
    },
    "language_info": {
      "codemirror_mode": {
        "name": "ipython",
        "version": 3
      },
      "file_extension": ".py",
      "mimetype": "text/x-python",
      "name": "python",
      "nbconvert_exporter": "python",
      "pygments_lexer": "ipython3",
      "version": "3.9.7"
    }
  },
  "nbformat": 4,
  "nbformat_minor": 5
}